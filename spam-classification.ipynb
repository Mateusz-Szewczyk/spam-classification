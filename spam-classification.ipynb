{
 "cells": [
  {
   "cell_type": "markdown",
   "id": "9159df1e-74d9-404a-ad8f-aedf86b04957",
   "metadata": {},
   "source": [
    "# Spam classification \n"
   ]
  },
  {
   "cell_type": "code",
   "execution_count": 3,
   "outputs": [],
   "source": [
    "import numpy as np\n",
    "import pandas as pd"
   ],
   "metadata": {
    "collapsed": false,
    "ExecuteTime": {
     "end_time": "2024-02-17T21:49:14.668843400Z",
     "start_time": "2024-02-17T21:49:14.594318100Z"
    }
   },
   "id": "eede6743-6bb3-405b-be9e-b296a68011b4"
  },
  {
   "cell_type": "code",
   "execution_count": 5,
   "id": "a64cb257-6138-4716-82c3-fb4b7f79a172",
   "metadata": {
    "ExecuteTime": {
     "end_time": "2024-02-17T21:49:22.994673600Z",
     "start_time": "2024-02-17T21:49:22.948230200Z"
    }
   },
   "outputs": [],
   "source": [
    "data1 = pd.read_csv(\"comm-psy.csv\")"
   ]
  },
  {
   "cell_type": "code",
   "execution_count": 6,
   "id": "96f7a5db-5e6a-46d2-a659-abd22bd541d9",
   "metadata": {
    "ExecuteTime": {
     "end_time": "2024-02-17T21:49:25.290972Z",
     "start_time": "2024-02-17T21:49:25.266560100Z"
    }
   },
   "outputs": [
    {
     "data": {
      "text/plain": "                                      COMMENT_ID  \\\n0    LZQPQhLyRh80UYxNuaDWhIGQYNQ96IuCg-AYWqNPjpU   \n1    LZQPQhLyRh_C2cTtd9MvFRJedxydaVW-2sNg5Diuo4A   \n2    LZQPQhLyRh9MSZYnf8djyk0gEF9BHDPYrrK-qCczIY8   \n3            z13jhp0bxqncu512g22wvzkasxmvvzjaz04   \n4            z13fwbwp1oujthgqj04chlngpvzmtt3r3dw   \n..                                           ...   \n345            z13th1q4yzihf1bll23qxzpjeujterydj   \n346        z13fcn1wfpb5e51xe04chdxakpzgchyaxzo0k   \n347          z130zd5b3titudkoe04ccbeohojxuzppvbg   \n348          z12he50arvrkivl5u04cctawgxzkjfsjcc4   \n349        z13vhvu54u3ewpp5h04ccb4zuoardrmjlyk0k   \n\n                                   AUTHOR                 DATE  \\\n0                               Julius NM  2013-11-07T06:20:48   \n1                             adam riyati  2013-11-07T12:37:15   \n2                        Evgeny Murashkin  2013-11-08T17:34:21   \n3                         ElNino Melendez  2013-11-09T08:28:43   \n4                                  GsMega  2013-11-10T16:05:38   \n..                                    ...                  ...   \n345                       Carmen Racasanu  2014-11-14T13:27:52   \n346                       diego mogrovejo  2014-11-14T13:28:08   \n347  BlueYetiPlayz -Call Of Duty and More  2015-05-23T13:04:32   \n348                          Photo Editor  2015-06-05T14:14:48   \n349                            Ray Benich  2015-06-05T18:05:16   \n\n                                               CONTENT  CLASS  \n0    Huh, anyway check out this you[tube] channel: ...      1  \n1    Hey guys check out my new channel and our firs...      1  \n2               just for test I have to say murdev.com      1  \n3     me shaking my sexy ass on my channel enjoy ^_^ ﻿      1  \n4              watch?v=vtaRGgvGtWQ   Check this out .﻿      1  \n..                                                 ...    ...  \n345  How can this have 2 billion views when there's...      0  \n346         I don't now why I'm watching this in 2014﻿      0  \n347  subscribe to me for call of duty vids and give...      1  \n348  hi guys please my android photo editor downloa...      1  \n349  The first billion viewed this because they tho...      0  \n\n[350 rows x 5 columns]",
      "text/html": "<div>\n<style scoped>\n    .dataframe tbody tr th:only-of-type {\n        vertical-align: middle;\n    }\n\n    .dataframe tbody tr th {\n        vertical-align: top;\n    }\n\n    .dataframe thead th {\n        text-align: right;\n    }\n</style>\n<table border=\"1\" class=\"dataframe\">\n  <thead>\n    <tr style=\"text-align: right;\">\n      <th></th>\n      <th>COMMENT_ID</th>\n      <th>AUTHOR</th>\n      <th>DATE</th>\n      <th>CONTENT</th>\n      <th>CLASS</th>\n    </tr>\n  </thead>\n  <tbody>\n    <tr>\n      <th>0</th>\n      <td>LZQPQhLyRh80UYxNuaDWhIGQYNQ96IuCg-AYWqNPjpU</td>\n      <td>Julius NM</td>\n      <td>2013-11-07T06:20:48</td>\n      <td>Huh, anyway check out this you[tube] channel: ...</td>\n      <td>1</td>\n    </tr>\n    <tr>\n      <th>1</th>\n      <td>LZQPQhLyRh_C2cTtd9MvFRJedxydaVW-2sNg5Diuo4A</td>\n      <td>adam riyati</td>\n      <td>2013-11-07T12:37:15</td>\n      <td>Hey guys check out my new channel and our firs...</td>\n      <td>1</td>\n    </tr>\n    <tr>\n      <th>2</th>\n      <td>LZQPQhLyRh9MSZYnf8djyk0gEF9BHDPYrrK-qCczIY8</td>\n      <td>Evgeny Murashkin</td>\n      <td>2013-11-08T17:34:21</td>\n      <td>just for test I have to say murdev.com</td>\n      <td>1</td>\n    </tr>\n    <tr>\n      <th>3</th>\n      <td>z13jhp0bxqncu512g22wvzkasxmvvzjaz04</td>\n      <td>ElNino Melendez</td>\n      <td>2013-11-09T08:28:43</td>\n      <td>me shaking my sexy ass on my channel enjoy ^_^ ﻿</td>\n      <td>1</td>\n    </tr>\n    <tr>\n      <th>4</th>\n      <td>z13fwbwp1oujthgqj04chlngpvzmtt3r3dw</td>\n      <td>GsMega</td>\n      <td>2013-11-10T16:05:38</td>\n      <td>watch?v=vtaRGgvGtWQ   Check this out .﻿</td>\n      <td>1</td>\n    </tr>\n    <tr>\n      <th>...</th>\n      <td>...</td>\n      <td>...</td>\n      <td>...</td>\n      <td>...</td>\n      <td>...</td>\n    </tr>\n    <tr>\n      <th>345</th>\n      <td>z13th1q4yzihf1bll23qxzpjeujterydj</td>\n      <td>Carmen Racasanu</td>\n      <td>2014-11-14T13:27:52</td>\n      <td>How can this have 2 billion views when there's...</td>\n      <td>0</td>\n    </tr>\n    <tr>\n      <th>346</th>\n      <td>z13fcn1wfpb5e51xe04chdxakpzgchyaxzo0k</td>\n      <td>diego mogrovejo</td>\n      <td>2014-11-14T13:28:08</td>\n      <td>I don't now why I'm watching this in 2014﻿</td>\n      <td>0</td>\n    </tr>\n    <tr>\n      <th>347</th>\n      <td>z130zd5b3titudkoe04ccbeohojxuzppvbg</td>\n      <td>BlueYetiPlayz -Call Of Duty and More</td>\n      <td>2015-05-23T13:04:32</td>\n      <td>subscribe to me for call of duty vids and give...</td>\n      <td>1</td>\n    </tr>\n    <tr>\n      <th>348</th>\n      <td>z12he50arvrkivl5u04cctawgxzkjfsjcc4</td>\n      <td>Photo Editor</td>\n      <td>2015-06-05T14:14:48</td>\n      <td>hi guys please my android photo editor downloa...</td>\n      <td>1</td>\n    </tr>\n    <tr>\n      <th>349</th>\n      <td>z13vhvu54u3ewpp5h04ccb4zuoardrmjlyk0k</td>\n      <td>Ray Benich</td>\n      <td>2015-06-05T18:05:16</td>\n      <td>The first billion viewed this because they tho...</td>\n      <td>0</td>\n    </tr>\n  </tbody>\n</table>\n<p>350 rows × 5 columns</p>\n</div>"
     },
     "execution_count": 6,
     "metadata": {},
     "output_type": "execute_result"
    }
   ],
   "source": [
    "data1"
   ]
  },
  {
   "cell_type": "code",
   "execution_count": 5,
   "id": "77c925e5-87ff-4a48-9b81-4c80fe244603",
   "metadata": {},
   "outputs": [],
   "source": [
    "data2 = pd.read_csv(\"comm-katyperry.csv\")"
   ]
  },
  {
   "cell_type": "code",
   "execution_count": 6,
   "id": "633e60aa-a1cf-46e6-9d44-8fe54e300b57",
   "metadata": {},
   "outputs": [
    {
     "data": {
      "text/html": [
       "<div>\n",
       "<style scoped>\n",
       "    .dataframe tbody tr th:only-of-type {\n",
       "        vertical-align: middle;\n",
       "    }\n",
       "\n",
       "    .dataframe tbody tr th {\n",
       "        vertical-align: top;\n",
       "    }\n",
       "\n",
       "    .dataframe thead th {\n",
       "        text-align: right;\n",
       "    }\n",
       "</style>\n",
       "<table border=\"1\" class=\"dataframe\">\n",
       "  <thead>\n",
       "    <tr style=\"text-align: right;\">\n",
       "      <th></th>\n",
       "      <th>COMMENT_ID</th>\n",
       "      <th>AUTHOR</th>\n",
       "      <th>DATE</th>\n",
       "      <th>CONTENT</th>\n",
       "      <th>CLASS</th>\n",
       "    </tr>\n",
       "  </thead>\n",
       "  <tbody>\n",
       "    <tr>\n",
       "      <th>0</th>\n",
       "      <td>z12pgdhovmrktzm3i23es5d5junftft3f</td>\n",
       "      <td>lekanaVEVO1</td>\n",
       "      <td>2014-07-22T15:27:50</td>\n",
       "      <td>i love this so much. AND also I Generate Free ...</td>\n",
       "      <td>1</td>\n",
       "    </tr>\n",
       "    <tr>\n",
       "      <th>1</th>\n",
       "      <td>z13yx345uxepetggz04ci5rjcxeohzlrtf4</td>\n",
       "      <td>Pyunghee</td>\n",
       "      <td>2014-07-27T01:57:16</td>\n",
       "      <td>http://www.billboard.com/articles/columns/pop-...</td>\n",
       "      <td>1</td>\n",
       "    </tr>\n",
       "    <tr>\n",
       "      <th>2</th>\n",
       "      <td>z12lsjvi3wa5x1vwh04cibeaqnzrevxajw00k</td>\n",
       "      <td>Erica Ross</td>\n",
       "      <td>2014-07-27T02:51:43</td>\n",
       "      <td>Hey guys! Please join me in my fight to help a...</td>\n",
       "      <td>1</td>\n",
       "    </tr>\n",
       "    <tr>\n",
       "      <th>3</th>\n",
       "      <td>z13jcjuovxbwfr0ge04cev2ipsjdfdurwck</td>\n",
       "      <td>Aviel Haimov</td>\n",
       "      <td>2014-08-01T12:27:48</td>\n",
       "      <td>http://psnboss.com/?ref=2tGgp3pV6L this is the...</td>\n",
       "      <td>1</td>\n",
       "    </tr>\n",
       "    <tr>\n",
       "      <th>4</th>\n",
       "      <td>z13qybua2yfydzxzj04cgfpqdt2syfx53ms0k</td>\n",
       "      <td>John Bello</td>\n",
       "      <td>2014-08-01T21:04:03</td>\n",
       "      <td>Hey everyone. Watch this trailer!!!!!!!!  http...</td>\n",
       "      <td>1</td>\n",
       "    </tr>\n",
       "    <tr>\n",
       "      <th>...</th>\n",
       "      <td>...</td>\n",
       "      <td>...</td>\n",
       "      <td>...</td>\n",
       "      <td>...</td>\n",
       "      <td>...</td>\n",
       "    </tr>\n",
       "    <tr>\n",
       "      <th>345</th>\n",
       "      <td>z12sjp3zgtqnvlysj23zuxxaolrvd1oj504</td>\n",
       "      <td>Kacy Cluley</td>\n",
       "      <td>2015-06-05T18:59:52</td>\n",
       "      <td>This song means so much to me thank you  soooo...</td>\n",
       "      <td>0</td>\n",
       "    </tr>\n",
       "    <tr>\n",
       "      <th>346</th>\n",
       "      <td>z132enrpoy35yxpoe04cjr4zur3jvbyq3xo0k</td>\n",
       "      <td>Kasia Fabisiewicz</td>\n",
       "      <td>2015-06-05T19:02:05</td>\n",
       "      <td>&amp;lt;3﻿</td>\n",
       "      <td>0</td>\n",
       "    </tr>\n",
       "    <tr>\n",
       "      <th>347</th>\n",
       "      <td>z132jbmxfqm4fjysg23nwjfb2mv2vxnua</td>\n",
       "      <td>Decio Alves Martins</td>\n",
       "      <td>2015-06-05T19:29:20</td>\n",
       "      <td>KATY PERRY, I AM THE \"DÉCIO CABELO\", \"DECIO HA...</td>\n",
       "      <td>1</td>\n",
       "    </tr>\n",
       "    <tr>\n",
       "      <th>348</th>\n",
       "      <td>z12cdlswetvnejcri04cex0jfwy2u3tzj54</td>\n",
       "      <td>Rafi Hossain</td>\n",
       "      <td>2015-06-05T19:55:08</td>\n",
       "      <td>Honestly speaking except taylor swift and adel...</td>\n",
       "      <td>0</td>\n",
       "    </tr>\n",
       "    <tr>\n",
       "      <th>349</th>\n",
       "      <td>z120e5uautvcuper304ccf4bjrjugdpbwrc0k</td>\n",
       "      <td>moaz adnan</td>\n",
       "      <td>2015-06-05T20:01:23</td>\n",
       "      <td>who is going to reach the billion first : katy...</td>\n",
       "      <td>0</td>\n",
       "    </tr>\n",
       "  </tbody>\n",
       "</table>\n",
       "<p>350 rows × 5 columns</p>\n",
       "</div>"
      ],
      "text/plain": [
       "                                COMMENT_ID               AUTHOR  \\\n",
       "0        z12pgdhovmrktzm3i23es5d5junftft3f          lekanaVEVO1   \n",
       "1      z13yx345uxepetggz04ci5rjcxeohzlrtf4             Pyunghee   \n",
       "2    z12lsjvi3wa5x1vwh04cibeaqnzrevxajw00k           Erica Ross   \n",
       "3      z13jcjuovxbwfr0ge04cev2ipsjdfdurwck         Aviel Haimov   \n",
       "4    z13qybua2yfydzxzj04cgfpqdt2syfx53ms0k           John Bello   \n",
       "..                                     ...                  ...   \n",
       "345    z12sjp3zgtqnvlysj23zuxxaolrvd1oj504          Kacy Cluley   \n",
       "346  z132enrpoy35yxpoe04cjr4zur3jvbyq3xo0k    Kasia Fabisiewicz   \n",
       "347      z132jbmxfqm4fjysg23nwjfb2mv2vxnua  Decio Alves Martins   \n",
       "348    z12cdlswetvnejcri04cex0jfwy2u3tzj54         Rafi Hossain   \n",
       "349  z120e5uautvcuper304ccf4bjrjugdpbwrc0k           moaz adnan   \n",
       "\n",
       "                    DATE                                            CONTENT  \\\n",
       "0    2014-07-22T15:27:50  i love this so much. AND also I Generate Free ...   \n",
       "1    2014-07-27T01:57:16  http://www.billboard.com/articles/columns/pop-...   \n",
       "2    2014-07-27T02:51:43  Hey guys! Please join me in my fight to help a...   \n",
       "3    2014-08-01T12:27:48  http://psnboss.com/?ref=2tGgp3pV6L this is the...   \n",
       "4    2014-08-01T21:04:03  Hey everyone. Watch this trailer!!!!!!!!  http...   \n",
       "..                   ...                                                ...   \n",
       "345  2015-06-05T18:59:52  This song means so much to me thank you  soooo...   \n",
       "346  2015-06-05T19:02:05                                             &lt;3﻿   \n",
       "347  2015-06-05T19:29:20  KATY PERRY, I AM THE \"DÉCIO CABELO\", \"DECIO HA...   \n",
       "348  2015-06-05T19:55:08  Honestly speaking except taylor swift and adel...   \n",
       "349  2015-06-05T20:01:23  who is going to reach the billion first : katy...   \n",
       "\n",
       "     CLASS  \n",
       "0        1  \n",
       "1        1  \n",
       "2        1  \n",
       "3        1  \n",
       "4        1  \n",
       "..     ...  \n",
       "345      0  \n",
       "346      0  \n",
       "347      1  \n",
       "348      0  \n",
       "349      0  \n",
       "\n",
       "[350 rows x 5 columns]"
      ]
     },
     "execution_count": 6,
     "metadata": {},
     "output_type": "execute_result"
    }
   ],
   "source": [
    "data2"
   ]
  },
  {
   "cell_type": "code",
   "execution_count": 7,
   "id": "757334ef-e3ad-4e79-a480-22bc7cd4dfbf",
   "metadata": {},
   "outputs": [],
   "source": [
    "data3 = pd.read_csv(\"comm-lmfao.csv\")"
   ]
  },
  {
   "cell_type": "code",
   "execution_count": 8,
   "id": "e5441301-6604-4817-9d8d-9070f90564f9",
   "metadata": {},
   "outputs": [],
   "source": [
    "data4 = pd.read_csv(\"comm-eminem.csv\")"
   ]
  },
  {
   "cell_type": "code",
   "execution_count": 9,
   "id": "c23866eb-d536-4c7e-87dc-c05cf7cc1327",
   "metadata": {},
   "outputs": [],
   "source": [
    "data5 = pd.read_csv(\"comm-shakira.csv\")"
   ]
  },
  {
   "cell_type": "code",
   "execution_count": 10,
   "id": "ab181473-3c9e-4d97-824b-ea3394d117b2",
   "metadata": {},
   "outputs": [],
   "source": [
    "li = []\n",
    "for data in (data1, data2, data3, data4, data5):\n",
    "    li.append(data)\n",
    "df_all = pd.concat(li, axis=0, ignore_index=True)"
   ]
  },
  {
   "cell_type": "code",
   "execution_count": 355,
   "id": "31bb6549-cde6-4a64-9430-6b512dc85e9a",
   "metadata": {},
   "outputs": [],
   "source": [
    "df = pd.read_csv(\"comments.csv\")"
   ]
  },
  {
   "cell_type": "code",
   "execution_count": 357,
   "id": "4e2d23b2-d5a6-4fd8-b6ff-1c25f9d9e467",
   "metadata": {},
   "outputs": [
    {
     "data": {
      "text/html": [
       "<div>\n",
       "<style scoped>\n",
       "    .dataframe tbody tr th:only-of-type {\n",
       "        vertical-align: middle;\n",
       "    }\n",
       "\n",
       "    .dataframe tbody tr th {\n",
       "        vertical-align: top;\n",
       "    }\n",
       "\n",
       "    .dataframe thead th {\n",
       "        text-align: right;\n",
       "    }\n",
       "</style>\n",
       "<table border=\"1\" class=\"dataframe\">\n",
       "  <thead>\n",
       "    <tr style=\"text-align: right;\">\n",
       "      <th></th>\n",
       "      <th>CONTENT</th>\n",
       "      <th>CLASS</th>\n",
       "    </tr>\n",
       "  </thead>\n",
       "  <tbody>\n",
       "    <tr>\n",
       "      <th>0</th>\n",
       "      <td>Huh, anyway check out this you[tube] channel: ...</td>\n",
       "      <td>1</td>\n",
       "    </tr>\n",
       "    <tr>\n",
       "      <th>1</th>\n",
       "      <td>Hey guys check out my new channel and our firs...</td>\n",
       "      <td>1</td>\n",
       "    </tr>\n",
       "    <tr>\n",
       "      <th>2</th>\n",
       "      <td>just for test I have to say murdev.com</td>\n",
       "      <td>1</td>\n",
       "    </tr>\n",
       "    <tr>\n",
       "      <th>3</th>\n",
       "      <td>me shaking my sexy ass on my channel enjoy ^_^ ﻿</td>\n",
       "      <td>1</td>\n",
       "    </tr>\n",
       "    <tr>\n",
       "      <th>4</th>\n",
       "      <td>watch?v=vtaRGgvGtWQ   Check this out .﻿</td>\n",
       "      <td>1</td>\n",
       "    </tr>\n",
       "    <tr>\n",
       "      <th>...</th>\n",
       "      <td>...</td>\n",
       "      <td>...</td>\n",
       "    </tr>\n",
       "    <tr>\n",
       "      <th>2088</th>\n",
       "      <td>Follow me for fashion inspiration and the late...</td>\n",
       "      <td>1</td>\n",
       "    </tr>\n",
       "    <tr>\n",
       "      <th>2089</th>\n",
       "      <td>Win a photoshoot! Follow and like to enter the...</td>\n",
       "      <td>1</td>\n",
       "    </tr>\n",
       "    <tr>\n",
       "      <th>2090</th>\n",
       "      <td>Get 1000 followers instantly! Limited spots av...</td>\n",
       "      <td>1</td>\n",
       "    </tr>\n",
       "    <tr>\n",
       "      <th>2091</th>\n",
       "      <td>Follow and like for a chance to win a brand ne...</td>\n",
       "      <td>1</td>\n",
       "    </tr>\n",
       "    <tr>\n",
       "      <th>2092</th>\n",
       "      <td>Join my engagement pod! Boost your engagement ...</td>\n",
       "      <td>1</td>\n",
       "    </tr>\n",
       "  </tbody>\n",
       "</table>\n",
       "<p>2093 rows × 2 columns</p>\n",
       "</div>"
      ],
      "text/plain": [
       "                                                CONTENT  CLASS\n",
       "0     Huh, anyway check out this you[tube] channel: ...      1\n",
       "1     Hey guys check out my new channel and our firs...      1\n",
       "2                just for test I have to say murdev.com      1\n",
       "3      me shaking my sexy ass on my channel enjoy ^_^ ﻿      1\n",
       "4               watch?v=vtaRGgvGtWQ   Check this out .﻿      1\n",
       "...                                                 ...    ...\n",
       "2088  Follow me for fashion inspiration and the late...      1\n",
       "2089  Win a photoshoot! Follow and like to enter the...      1\n",
       "2090  Get 1000 followers instantly! Limited spots av...      1\n",
       "2091  Follow and like for a chance to win a brand ne...      1\n",
       "2092  Join my engagement pod! Boost your engagement ...      1\n",
       "\n",
       "[2093 rows x 2 columns]"
      ]
     },
     "execution_count": 357,
     "metadata": {},
     "output_type": "execute_result"
    }
   ],
   "source": [
    "df"
   ]
  },
  {
   "cell_type": "code",
   "execution_count": 361,
   "id": "02266245-f1cf-49dc-b73d-3877f5c95d1e",
   "metadata": {},
   "outputs": [],
   "source": [
    "words = pd.read_csv(\"words.csv\")"
   ]
  },
  {
   "cell_type": "code",
   "execution_count": 362,
   "id": "edfd9383-ff4b-41d8-8f07-8964a6eba52a",
   "metadata": {},
   "outputs": [
    {
     "data": {
      "text/html": [
       "<div>\n",
       "<style scoped>\n",
       "    .dataframe tbody tr th:only-of-type {\n",
       "        vertical-align: middle;\n",
       "    }\n",
       "\n",
       "    .dataframe tbody tr th {\n",
       "        vertical-align: top;\n",
       "    }\n",
       "\n",
       "    .dataframe thead th {\n",
       "        text-align: right;\n",
       "    }\n",
       "</style>\n",
       "<table border=\"1\" class=\"dataframe\">\n",
       "  <thead>\n",
       "    <tr style=\"text-align: right;\">\n",
       "      <th></th>\n",
       "      <th>Rank</th>\n",
       "      <th>Word</th>\n",
       "      <th>Part of speech</th>\n",
       "      <th>Frequency</th>\n",
       "      <th>Dispersion</th>\n",
       "    </tr>\n",
       "  </thead>\n",
       "  <tbody>\n",
       "    <tr>\n",
       "      <th>0</th>\n",
       "      <td>1</td>\n",
       "      <td>the</td>\n",
       "      <td>a</td>\n",
       "      <td>22038615</td>\n",
       "      <td>0,98</td>\n",
       "    </tr>\n",
       "    <tr>\n",
       "      <th>1</th>\n",
       "      <td>2</td>\n",
       "      <td>be</td>\n",
       "      <td>v</td>\n",
       "      <td>12545825</td>\n",
       "      <td>0,97</td>\n",
       "    </tr>\n",
       "    <tr>\n",
       "      <th>2</th>\n",
       "      <td>3</td>\n",
       "      <td>and</td>\n",
       "      <td>c</td>\n",
       "      <td>10741073</td>\n",
       "      <td>0,99</td>\n",
       "    </tr>\n",
       "    <tr>\n",
       "      <th>3</th>\n",
       "      <td>4</td>\n",
       "      <td>of</td>\n",
       "      <td>i</td>\n",
       "      <td>10343885</td>\n",
       "      <td>0,97</td>\n",
       "    </tr>\n",
       "    <tr>\n",
       "      <th>4</th>\n",
       "      <td>5</td>\n",
       "      <td>a</td>\n",
       "      <td>a</td>\n",
       "      <td>10144200</td>\n",
       "      <td>0,98</td>\n",
       "    </tr>\n",
       "    <tr>\n",
       "      <th>...</th>\n",
       "      <td>...</td>\n",
       "      <td>...</td>\n",
       "      <td>...</td>\n",
       "      <td>...</td>\n",
       "      <td>...</td>\n",
       "    </tr>\n",
       "    <tr>\n",
       "      <th>4995</th>\n",
       "      <td>4996</td>\n",
       "      <td>plaintiff</td>\n",
       "      <td>n</td>\n",
       "      <td>5312</td>\n",
       "      <td>0,88</td>\n",
       "    </tr>\n",
       "    <tr>\n",
       "      <th>4996</th>\n",
       "      <td>4997</td>\n",
       "      <td>kid</td>\n",
       "      <td>v</td>\n",
       "      <td>5094</td>\n",
       "      <td>0,92</td>\n",
       "    </tr>\n",
       "    <tr>\n",
       "      <th>4997</th>\n",
       "      <td>4998</td>\n",
       "      <td>middle-class</td>\n",
       "      <td>j</td>\n",
       "      <td>5025</td>\n",
       "      <td>0,93</td>\n",
       "    </tr>\n",
       "    <tr>\n",
       "      <th>4998</th>\n",
       "      <td>4999</td>\n",
       "      <td>apology</td>\n",
       "      <td>n</td>\n",
       "      <td>4972</td>\n",
       "      <td>0,94</td>\n",
       "    </tr>\n",
       "    <tr>\n",
       "      <th>4999</th>\n",
       "      <td>5000</td>\n",
       "      <td>till</td>\n",
       "      <td>i</td>\n",
       "      <td>5079</td>\n",
       "      <td>0,92</td>\n",
       "    </tr>\n",
       "  </tbody>\n",
       "</table>\n",
       "<p>5000 rows × 5 columns</p>\n",
       "</div>"
      ],
      "text/plain": [
       "      Rank          Word Part of speech  Frequency Dispersion\n",
       "0        1           the              a   22038615       0,98\n",
       "1        2            be              v   12545825       0,97\n",
       "2        3           and              c   10741073       0,99\n",
       "3        4            of              i   10343885       0,97\n",
       "4        5             a              a   10144200       0,98\n",
       "...    ...           ...            ...        ...        ...\n",
       "4995  4996     plaintiff              n       5312       0,88\n",
       "4996  4997           kid              v       5094       0,92\n",
       "4997  4998  middle-class              j       5025       0,93\n",
       "4998  4999       apology              n       4972       0,94\n",
       "4999  5000          till              i       5079       0,92\n",
       "\n",
       "[5000 rows x 5 columns]"
      ]
     },
     "execution_count": 362,
     "metadata": {},
     "output_type": "execute_result"
    }
   ],
   "source": [
    "words"
   ]
  },
  {
   "cell_type": "code",
   "execution_count": 363,
   "id": "94ba9726-cc7d-46cf-b484-34e9292bed64",
   "metadata": {},
   "outputs": [],
   "source": [
    "words = words[\"Word\"].squeeze()"
   ]
  },
  {
   "cell_type": "code",
   "execution_count": 364,
   "id": "770900e5-7277-446a-83de-f855cb9827aa",
   "metadata": {},
   "outputs": [
    {
     "data": {
      "text/plain": [
       "0                the\n",
       "1                 be\n",
       "2                and\n",
       "3                 of\n",
       "4                  a\n",
       "            ...     \n",
       "4995       plaintiff\n",
       "4996             kid\n",
       "4997    middle-class\n",
       "4998         apology\n",
       "4999            till\n",
       "Name: Word, Length: 5000, dtype: object"
      ]
     },
     "execution_count": 364,
     "metadata": {},
     "output_type": "execute_result"
    }
   ],
   "source": [
    "words"
   ]
  },
  {
   "cell_type": "code",
   "execution_count": 365,
   "id": "0cd5a738-2149-4e62-9677-805a09206644",
   "metadata": {},
   "outputs": [],
   "source": [
    "#new_symbols = [\",\",\".\",\"!\",\"@\",\"#\",\"$\",\"%\",\"^\",\"&\",\"*\",\"(\",\")\",\"-\",\"+\",\"_\",\"=\",\":\",\";\",\"?\",\"/\",\"\\\\\"]\n",
    "new_symbols = [\",\", \".\", \"!\", \"@\", \"#\", \"$\", \"%\", \"^\", \"&\", \"*\", \"(\", \")\", \"-\", \"+\", \"_\", \"=\", \":\", \";\", \"?\", \"/\", \"\\\\\", \"0\", \"1\", \"2\", \"3\", \"4\", \"5\", \"6\", \"7\", \"8\", \"9\", \"😊\", \"😂\", \"😍\", \"👍\", \"🔥\", \"💯\", \"🎉\", \"❤️\", \"😎\", \"🙌\", \"👏\", \"✨\", \"🚀\", \"🌟\", \"💥\", \"🎊\", \"💪\"]\n"
   ]
  },
  {
   "cell_type": "code",
   "execution_count": 366,
   "id": "03ed7a49-eead-4338-98b4-4d8588aaca40",
   "metadata": {},
   "outputs": [],
   "source": [
    "words = pd.concat([words, pd.Series(new_symbols)])"
   ]
  },
  {
   "cell_type": "code",
   "execution_count": 367,
   "id": "c3b222e5-6745-4df1-a355-c6c67f13d017",
   "metadata": {},
   "outputs": [],
   "source": [
    "# Re-indexing the Series to have a sequential index starting from 0\n",
    "\n",
    "words.reset_index(drop=True, inplace=True)"
   ]
  },
  {
   "cell_type": "code",
   "execution_count": 397,
   "id": "53f728f7-017d-4e11-83aa-bc519be09585",
   "metadata": {},
   "outputs": [],
   "source": [
    "words.to_csv(\"words_list.csv\", index=False)"
   ]
  },
  {
   "cell_type": "code",
   "execution_count": 442,
   "id": "628d6bdb-d5c2-42a7-a450-e30609dcbe55",
   "metadata": {},
   "outputs": [
    {
     "data": {
      "text/plain": [
       "0       the\n",
       "1        be\n",
       "2       and\n",
       "3        of\n",
       "4         a\n",
       "       ... \n",
       "5043      🚀\n",
       "5044      🌟\n",
       "5045      💥\n",
       "5046      🎊\n",
       "5047      💪\n",
       "Name: 0, Length: 5048, dtype: object"
      ]
     },
     "execution_count": 442,
     "metadata": {},
     "output_type": "execute_result"
    }
   ],
   "source": [
    "words = pd.read_csv(\"words_list.csv\")\n",
    "words = words[\"0\"]\n",
    "words"
   ]
  },
  {
   "cell_type": "code",
   "execution_count": 455,
   "id": "cc5fb124-dce8-4a89-887c-ef47f1acc0dc",
   "metadata": {},
   "outputs": [],
   "source": [
    "def message_to_words(message):\n",
    "    \"\"\"\n",
    "    The function message_to_words(message) only accepts a string as input. \n",
    "    It splits the input string into individual words, \n",
    "    converts each word to lowercase, and returns a list of these lowercase words.\n",
    "    \"\"\"\n",
    "    words_ = []\n",
    "    for word in message.split(\" \"):\n",
    "        words_.append(word.lower())\n",
    "    return words_"
   ]
  },
  {
   "cell_type": "code",
   "execution_count": 457,
   "id": "c17edfab-f66d-4ddd-b29b-b12410638f29",
   "metadata": {},
   "outputs": [],
   "source": [
    "def make_rows(messages, words=words):\n",
    "    \"\"\"\n",
    "    The make_rows(messages, words=words) function exclusively accepts a list as its input.\n",
    "    It dissects each message within the list into individual words and generates a list of dictionaries. \n",
    "    These dictionaries depict messages and detail the presence of each word from a specified word list.\n",
    "    \"\"\"\n",
    "    result = []\n",
    "    symbols_to_check = set(\".,!@#$%^&*()-+_=:;?/\\\\1234567890><😊😂😍👍🔥💯🎉❤️😎🙌👏✨🚀🌟💥🎊💪\")\n",
    "    symbols_to_check_map = \".,!@#$%^&*()-+_=:;?/\\\\1234567890><😊😂😍👍🔥💯🎉❤️😎🙌👏✨🚀🌟💥🎊💪\"\n",
    "    translation_map = str.maketrans('', '', symbols_to_check_map)\n",
    "    for message in messages:\n",
    "        word_dict = {}\n",
    "        for word in words:\n",
    "            if word in message:\n",
    "                word_dict[word] = 1\n",
    "            else:\n",
    "                for x in message:\n",
    "                    for letter in x:\n",
    "                        if letter in symbols_to_check:\n",
    "                            word_dict[letter] = 1\n",
    "                    new_word = x.translate(translation_map)\n",
    "                    if new_word in words:\n",
    "                        word_dict[new_word] = 1\n",
    "                word_dict[word] = 0\n",
    "        result.append(word_dict)\n",
    "    return result"
   ]
  },
  {
   "cell_type": "code",
   "execution_count": 390,
   "id": "79d407cd-5cc7-4328-b88d-f9b8038466b5",
   "metadata": {},
   "outputs": [],
   "source": [
    "messages = [message_to_words(message) for message in list(df.CONTENT)]"
   ]
  },
  {
   "cell_type": "code",
   "execution_count": 393,
   "id": "fcf35e6a-c3f4-45e2-a0be-9317be7ed6e1",
   "metadata": {},
   "outputs": [],
   "source": [
    "rows = make_rows(messages)"
   ]
  },
  {
   "cell_type": "code",
   "execution_count": 394,
   "id": "cba3d8be-9e8e-4452-bc13-94bbe396cf15",
   "metadata": {},
   "outputs": [],
   "source": [
    "df_final = pd.DataFrame(rows, columns=words)"
   ]
  },
  {
   "cell_type": "code",
   "execution_count": 395,
   "id": "ad8e5404-40bd-4441-ba93-7c4809439232",
   "metadata": {},
   "outputs": [],
   "source": [
    "df_final[\"target_\"] = df.CLASS"
   ]
  },
  {
   "cell_type": "code",
   "execution_count": 403,
   "id": "b1c78213-9c30-4946-a6ac-4ffa46409076",
   "metadata": {},
   "outputs": [],
   "source": [
    "df_final.to_csv(\"comments_data.csv\", index=False)"
   ]
  },
  {
   "cell_type": "code",
   "execution_count": 404,
   "id": "04797e0e-6590-4582-940b-5a4edbadebae",
   "metadata": {},
   "outputs": [
    {
     "data": {
      "text/html": [
       "<div>\n",
       "<style scoped>\n",
       "    .dataframe tbody tr th:only-of-type {\n",
       "        vertical-align: middle;\n",
       "    }\n",
       "\n",
       "    .dataframe tbody tr th {\n",
       "        vertical-align: top;\n",
       "    }\n",
       "\n",
       "    .dataframe thead th {\n",
       "        text-align: right;\n",
       "    }\n",
       "</style>\n",
       "<table border=\"1\" class=\"dataframe\">\n",
       "  <thead>\n",
       "    <tr style=\"text-align: right;\">\n",
       "      <th></th>\n",
       "      <th>the</th>\n",
       "      <th>be</th>\n",
       "      <th>and</th>\n",
       "      <th>of</th>\n",
       "      <th>a</th>\n",
       "      <th>in</th>\n",
       "      <th>to</th>\n",
       "      <th>have</th>\n",
       "      <th>to</th>\n",
       "      <th>it</th>\n",
       "      <th>...</th>\n",
       "      <th>😎</th>\n",
       "      <th>🙌</th>\n",
       "      <th>👏</th>\n",
       "      <th>✨</th>\n",
       "      <th>🚀</th>\n",
       "      <th>🌟</th>\n",
       "      <th>💥</th>\n",
       "      <th>🎊</th>\n",
       "      <th>💪</th>\n",
       "      <th>target_</th>\n",
       "    </tr>\n",
       "  </thead>\n",
       "  <tbody>\n",
       "    <tr>\n",
       "      <th>0</th>\n",
       "      <td>0</td>\n",
       "      <td>0</td>\n",
       "      <td>0</td>\n",
       "      <td>0</td>\n",
       "      <td>0</td>\n",
       "      <td>0</td>\n",
       "      <td>0</td>\n",
       "      <td>0</td>\n",
       "      <td>0</td>\n",
       "      <td>0</td>\n",
       "      <td>...</td>\n",
       "      <td>0</td>\n",
       "      <td>0</td>\n",
       "      <td>0</td>\n",
       "      <td>0</td>\n",
       "      <td>0</td>\n",
       "      <td>0</td>\n",
       "      <td>0</td>\n",
       "      <td>0</td>\n",
       "      <td>0</td>\n",
       "      <td>1</td>\n",
       "    </tr>\n",
       "    <tr>\n",
       "      <th>1</th>\n",
       "      <td>1</td>\n",
       "      <td>0</td>\n",
       "      <td>1</td>\n",
       "      <td>0</td>\n",
       "      <td>1</td>\n",
       "      <td>1</td>\n",
       "      <td>0</td>\n",
       "      <td>0</td>\n",
       "      <td>0</td>\n",
       "      <td>0</td>\n",
       "      <td>...</td>\n",
       "      <td>0</td>\n",
       "      <td>0</td>\n",
       "      <td>0</td>\n",
       "      <td>0</td>\n",
       "      <td>0</td>\n",
       "      <td>0</td>\n",
       "      <td>0</td>\n",
       "      <td>0</td>\n",
       "      <td>0</td>\n",
       "      <td>1</td>\n",
       "    </tr>\n",
       "    <tr>\n",
       "      <th>2</th>\n",
       "      <td>0</td>\n",
       "      <td>0</td>\n",
       "      <td>0</td>\n",
       "      <td>0</td>\n",
       "      <td>0</td>\n",
       "      <td>0</td>\n",
       "      <td>1</td>\n",
       "      <td>1</td>\n",
       "      <td>1</td>\n",
       "      <td>0</td>\n",
       "      <td>...</td>\n",
       "      <td>0</td>\n",
       "      <td>0</td>\n",
       "      <td>0</td>\n",
       "      <td>0</td>\n",
       "      <td>0</td>\n",
       "      <td>0</td>\n",
       "      <td>0</td>\n",
       "      <td>0</td>\n",
       "      <td>0</td>\n",
       "      <td>1</td>\n",
       "    </tr>\n",
       "    <tr>\n",
       "      <th>3</th>\n",
       "      <td>0</td>\n",
       "      <td>0</td>\n",
       "      <td>0</td>\n",
       "      <td>0</td>\n",
       "      <td>0</td>\n",
       "      <td>0</td>\n",
       "      <td>0</td>\n",
       "      <td>0</td>\n",
       "      <td>0</td>\n",
       "      <td>0</td>\n",
       "      <td>...</td>\n",
       "      <td>0</td>\n",
       "      <td>0</td>\n",
       "      <td>0</td>\n",
       "      <td>0</td>\n",
       "      <td>0</td>\n",
       "      <td>0</td>\n",
       "      <td>0</td>\n",
       "      <td>0</td>\n",
       "      <td>0</td>\n",
       "      <td>1</td>\n",
       "    </tr>\n",
       "    <tr>\n",
       "      <th>4</th>\n",
       "      <td>0</td>\n",
       "      <td>0</td>\n",
       "      <td>0</td>\n",
       "      <td>0</td>\n",
       "      <td>0</td>\n",
       "      <td>0</td>\n",
       "      <td>0</td>\n",
       "      <td>0</td>\n",
       "      <td>0</td>\n",
       "      <td>0</td>\n",
       "      <td>...</td>\n",
       "      <td>0</td>\n",
       "      <td>0</td>\n",
       "      <td>0</td>\n",
       "      <td>0</td>\n",
       "      <td>0</td>\n",
       "      <td>0</td>\n",
       "      <td>0</td>\n",
       "      <td>0</td>\n",
       "      <td>0</td>\n",
       "      <td>1</td>\n",
       "    </tr>\n",
       "    <tr>\n",
       "      <th>...</th>\n",
       "      <td>...</td>\n",
       "      <td>...</td>\n",
       "      <td>...</td>\n",
       "      <td>...</td>\n",
       "      <td>...</td>\n",
       "      <td>...</td>\n",
       "      <td>...</td>\n",
       "      <td>...</td>\n",
       "      <td>...</td>\n",
       "      <td>...</td>\n",
       "      <td>...</td>\n",
       "      <td>...</td>\n",
       "      <td>...</td>\n",
       "      <td>...</td>\n",
       "      <td>...</td>\n",
       "      <td>...</td>\n",
       "      <td>...</td>\n",
       "      <td>...</td>\n",
       "      <td>...</td>\n",
       "      <td>...</td>\n",
       "      <td>...</td>\n",
       "    </tr>\n",
       "    <tr>\n",
       "      <th>2088</th>\n",
       "      <td>1</td>\n",
       "      <td>0</td>\n",
       "      <td>1</td>\n",
       "      <td>0</td>\n",
       "      <td>0</td>\n",
       "      <td>0</td>\n",
       "      <td>0</td>\n",
       "      <td>0</td>\n",
       "      <td>0</td>\n",
       "      <td>0</td>\n",
       "      <td>...</td>\n",
       "      <td>0</td>\n",
       "      <td>0</td>\n",
       "      <td>0</td>\n",
       "      <td>0</td>\n",
       "      <td>0</td>\n",
       "      <td>0</td>\n",
       "      <td>0</td>\n",
       "      <td>0</td>\n",
       "      <td>0</td>\n",
       "      <td>1</td>\n",
       "    </tr>\n",
       "    <tr>\n",
       "      <th>2089</th>\n",
       "      <td>1</td>\n",
       "      <td>0</td>\n",
       "      <td>1</td>\n",
       "      <td>0</td>\n",
       "      <td>1</td>\n",
       "      <td>0</td>\n",
       "      <td>1</td>\n",
       "      <td>0</td>\n",
       "      <td>1</td>\n",
       "      <td>0</td>\n",
       "      <td>...</td>\n",
       "      <td>0</td>\n",
       "      <td>0</td>\n",
       "      <td>0</td>\n",
       "      <td>0</td>\n",
       "      <td>0</td>\n",
       "      <td>0</td>\n",
       "      <td>0</td>\n",
       "      <td>0</td>\n",
       "      <td>0</td>\n",
       "      <td>1</td>\n",
       "    </tr>\n",
       "    <tr>\n",
       "      <th>2090</th>\n",
       "      <td>0</td>\n",
       "      <td>0</td>\n",
       "      <td>0</td>\n",
       "      <td>0</td>\n",
       "      <td>0</td>\n",
       "      <td>0</td>\n",
       "      <td>0</td>\n",
       "      <td>0</td>\n",
       "      <td>0</td>\n",
       "      <td>0</td>\n",
       "      <td>...</td>\n",
       "      <td>0</td>\n",
       "      <td>0</td>\n",
       "      <td>0</td>\n",
       "      <td>0</td>\n",
       "      <td>0</td>\n",
       "      <td>0</td>\n",
       "      <td>0</td>\n",
       "      <td>0</td>\n",
       "      <td>0</td>\n",
       "      <td>1</td>\n",
       "    </tr>\n",
       "    <tr>\n",
       "      <th>2091</th>\n",
       "      <td>0</td>\n",
       "      <td>0</td>\n",
       "      <td>1</td>\n",
       "      <td>0</td>\n",
       "      <td>1</td>\n",
       "      <td>0</td>\n",
       "      <td>1</td>\n",
       "      <td>0</td>\n",
       "      <td>1</td>\n",
       "      <td>0</td>\n",
       "      <td>...</td>\n",
       "      <td>0</td>\n",
       "      <td>0</td>\n",
       "      <td>0</td>\n",
       "      <td>0</td>\n",
       "      <td>0</td>\n",
       "      <td>0</td>\n",
       "      <td>0</td>\n",
       "      <td>0</td>\n",
       "      <td>0</td>\n",
       "      <td>1</td>\n",
       "    </tr>\n",
       "    <tr>\n",
       "      <th>2092</th>\n",
       "      <td>0</td>\n",
       "      <td>0</td>\n",
       "      <td>1</td>\n",
       "      <td>0</td>\n",
       "      <td>0</td>\n",
       "      <td>0</td>\n",
       "      <td>0</td>\n",
       "      <td>0</td>\n",
       "      <td>0</td>\n",
       "      <td>0</td>\n",
       "      <td>...</td>\n",
       "      <td>0</td>\n",
       "      <td>0</td>\n",
       "      <td>0</td>\n",
       "      <td>0</td>\n",
       "      <td>0</td>\n",
       "      <td>0</td>\n",
       "      <td>0</td>\n",
       "      <td>0</td>\n",
       "      <td>0</td>\n",
       "      <td>1</td>\n",
       "    </tr>\n",
       "  </tbody>\n",
       "</table>\n",
       "<p>2093 rows × 5049 columns</p>\n",
       "</div>"
      ],
      "text/plain": [
       "      the  be  and  of  a  in  to  have  to  it  ...  😎  🙌  👏  ✨  🚀  🌟  💥  🎊  \\\n",
       "0       0   0    0   0  0   0   0     0   0   0  ...  0  0  0  0  0  0  0  0   \n",
       "1       1   0    1   0  1   1   0     0   0   0  ...  0  0  0  0  0  0  0  0   \n",
       "2       0   0    0   0  0   0   1     1   1   0  ...  0  0  0  0  0  0  0  0   \n",
       "3       0   0    0   0  0   0   0     0   0   0  ...  0  0  0  0  0  0  0  0   \n",
       "4       0   0    0   0  0   0   0     0   0   0  ...  0  0  0  0  0  0  0  0   \n",
       "...   ...  ..  ...  .. ..  ..  ..   ...  ..  ..  ... .. .. .. .. .. .. .. ..   \n",
       "2088    1   0    1   0  0   0   0     0   0   0  ...  0  0  0  0  0  0  0  0   \n",
       "2089    1   0    1   0  1   0   1     0   1   0  ...  0  0  0  0  0  0  0  0   \n",
       "2090    0   0    0   0  0   0   0     0   0   0  ...  0  0  0  0  0  0  0  0   \n",
       "2091    0   0    1   0  1   0   1     0   1   0  ...  0  0  0  0  0  0  0  0   \n",
       "2092    0   0    1   0  0   0   0     0   0   0  ...  0  0  0  0  0  0  0  0   \n",
       "\n",
       "      💪  target_  \n",
       "0     0        1  \n",
       "1     0        1  \n",
       "2     0        1  \n",
       "3     0        1  \n",
       "4     0        1  \n",
       "...  ..      ...  \n",
       "2088  0        1  \n",
       "2089  0        1  \n",
       "2090  0        1  \n",
       "2091  0        1  \n",
       "2092  0        1  \n",
       "\n",
       "[2093 rows x 5049 columns]"
      ]
     },
     "execution_count": 404,
     "metadata": {},
     "output_type": "execute_result"
    }
   ],
   "source": [
    "df_final"
   ]
  },
  {
   "cell_type": "code",
   "execution_count": 405,
   "id": "10d7ddbf-503e-41b2-b2a1-a782b4a468d0",
   "metadata": {},
   "outputs": [],
   "source": [
    "from sklearn.svm import SVC\n",
    "from sklearn.linear_model import LogisticRegression\n",
    "from sklearn.neighbors import KNeighborsClassifier\n",
    "from sklearn.ensemble import RandomForestClassifier\n",
    "from sklearn.linear_model import LogisticRegression\n",
    "from sklearn.svm import LinearSVC\n",
    "\n",
    "from sklearn.model_selection import train_test_split, cross_val_score\n",
    "from sklearn.model_selection import RandomizedSearchCV, GridSearchCV\n",
    "from sklearn.metrics import confusion_matrix, classification_report\n",
    "from sklearn.metrics import precision_score, recall_score, f1_score\n",
    "from sklearn.metrics import RocCurveDisplay\n",
    "\n",
    "\n",
    "X = df_final.drop(\"target_\", axis=1)\n",
    "y = df_final[\"target_\"]\n",
    "\n",
    "X_train, X_test, y_train, y_test = train_test_split(X, y, test_size=0.2, random_state=42)"
   ]
  },
  {
   "cell_type": "code",
   "execution_count": 406,
   "id": "61aecd59-ecf5-4580-979a-19d0a21fe01a",
   "metadata": {},
   "outputs": [],
   "source": [
    "models = {\"Logistic Regression\": LogisticRegression(),\n",
    "          \"KNN\": KNeighborsClassifier(),\n",
    "          \"Random Forest\": RandomForestClassifier(),\n",
    "          \"SVC\": SVC(),\n",
    "         \"LinearSVC\": LinearSVC(dual=\"auto\")}\n",
    "\n",
    "def fit_and_score(models, X_train, X_test, y_train, y_test):\n",
    "    np.random.seed(42)\n",
    "    model_scores = {}\n",
    "    for name, model in models.items():\n",
    "        model.fit(X_train, y_train)\n",
    "        model_scores[name] = model.score(X_test, y_test)\n",
    "    return model_scores"
   ]
  },
  {
   "cell_type": "code",
   "execution_count": 407,
   "id": "5bd5500c-603b-4a00-a175-aa242867df6a",
   "metadata": {},
   "outputs": [
    {
     "data": {
      "text/plain": [
       "{'Logistic Regression': 0.918854415274463,\n",
       " 'KNN': 0.8568019093078759,\n",
       " 'Random Forest': 0.9260143198090692,\n",
       " 'SVC': 0.9307875894988067,\n",
       " 'LinearSVC': 0.9045346062052506}"
      ]
     },
     "execution_count": 407,
     "metadata": {},
     "output_type": "execute_result"
    }
   ],
   "source": [
    "fit_and_score(models, X_train, X_test, y_train, y_test)"
   ]
  },
  {
   "cell_type": "code",
   "execution_count": 141,
   "id": "9a54f9aa-d3fe-4459-97ab-2220cf9d1d77",
   "metadata": {},
   "outputs": [
    {
     "name": "stderr",
     "output_type": "stream",
     "text": [
      "C:\\Users\\mrinc\\AppData\\Local\\Programs\\Python\\Python311\\Lib\\site-packages\\sklearn\\model_selection\\_search.py:307: UserWarning: The total space of parameters 36 is smaller than n_iter=200. Running 36 iterations. For exhaustive searches, use GridSearchCV.\n",
      "  warnings.warn(\n"
     ]
    },
    {
     "name": "stdout",
     "output_type": "stream",
     "text": [
      "Fitting 3 folds for each of 36 candidates, totalling 108 fits\n"
     ]
    },
    {
     "data": {
      "text/html": [
       "<style>#sk-container-id-7 {color: black;}#sk-container-id-7 pre{padding: 0;}#sk-container-id-7 div.sk-toggleable {background-color: white;}#sk-container-id-7 label.sk-toggleable__label {cursor: pointer;display: block;width: 100%;margin-bottom: 0;padding: 0.3em;box-sizing: border-box;text-align: center;}#sk-container-id-7 label.sk-toggleable__label-arrow:before {content: \"▸\";float: left;margin-right: 0.25em;color: #696969;}#sk-container-id-7 label.sk-toggleable__label-arrow:hover:before {color: black;}#sk-container-id-7 div.sk-estimator:hover label.sk-toggleable__label-arrow:before {color: black;}#sk-container-id-7 div.sk-toggleable__content {max-height: 0;max-width: 0;overflow: hidden;text-align: left;background-color: #f0f8ff;}#sk-container-id-7 div.sk-toggleable__content pre {margin: 0.2em;color: black;border-radius: 0.25em;background-color: #f0f8ff;}#sk-container-id-7 input.sk-toggleable__control:checked~div.sk-toggleable__content {max-height: 200px;max-width: 100%;overflow: auto;}#sk-container-id-7 input.sk-toggleable__control:checked~label.sk-toggleable__label-arrow:before {content: \"▾\";}#sk-container-id-7 div.sk-estimator input.sk-toggleable__control:checked~label.sk-toggleable__label {background-color: #d4ebff;}#sk-container-id-7 div.sk-label input.sk-toggleable__control:checked~label.sk-toggleable__label {background-color: #d4ebff;}#sk-container-id-7 input.sk-hidden--visually {border: 0;clip: rect(1px 1px 1px 1px);clip: rect(1px, 1px, 1px, 1px);height: 1px;margin: -1px;overflow: hidden;padding: 0;position: absolute;width: 1px;}#sk-container-id-7 div.sk-estimator {font-family: monospace;background-color: #f0f8ff;border: 1px dotted black;border-radius: 0.25em;box-sizing: border-box;margin-bottom: 0.5em;}#sk-container-id-7 div.sk-estimator:hover {background-color: #d4ebff;}#sk-container-id-7 div.sk-parallel-item::after {content: \"\";width: 100%;border-bottom: 1px solid gray;flex-grow: 1;}#sk-container-id-7 div.sk-label:hover label.sk-toggleable__label {background-color: #d4ebff;}#sk-container-id-7 div.sk-serial::before {content: \"\";position: absolute;border-left: 1px solid gray;box-sizing: border-box;top: 0;bottom: 0;left: 50%;z-index: 0;}#sk-container-id-7 div.sk-serial {display: flex;flex-direction: column;align-items: center;background-color: white;padding-right: 0.2em;padding-left: 0.2em;position: relative;}#sk-container-id-7 div.sk-item {position: relative;z-index: 1;}#sk-container-id-7 div.sk-parallel {display: flex;align-items: stretch;justify-content: center;background-color: white;position: relative;}#sk-container-id-7 div.sk-item::before, #sk-container-id-7 div.sk-parallel-item::before {content: \"\";position: absolute;border-left: 1px solid gray;box-sizing: border-box;top: 0;bottom: 0;left: 50%;z-index: -1;}#sk-container-id-7 div.sk-parallel-item {display: flex;flex-direction: column;z-index: 1;position: relative;background-color: white;}#sk-container-id-7 div.sk-parallel-item:first-child::after {align-self: flex-end;width: 50%;}#sk-container-id-7 div.sk-parallel-item:last-child::after {align-self: flex-start;width: 50%;}#sk-container-id-7 div.sk-parallel-item:only-child::after {width: 0;}#sk-container-id-7 div.sk-dashed-wrapped {border: 1px dashed gray;margin: 0 0.4em 0.5em 0.4em;box-sizing: border-box;padding-bottom: 0.4em;background-color: white;}#sk-container-id-7 div.sk-label label {font-family: monospace;font-weight: bold;display: inline-block;line-height: 1.2em;}#sk-container-id-7 div.sk-label-container {text-align: center;}#sk-container-id-7 div.sk-container {/* jupyter's `normalize.less` sets `[hidden] { display: none; }` but bootstrap.min.css set `[hidden] { display: none !important; }` so we also need the `!important` here to be able to override the default hidden behavior on the sphinx rendered scikit-learn.org. See: https://github.com/scikit-learn/scikit-learn/issues/21755 */display: inline-block !important;position: relative;}#sk-container-id-7 div.sk-text-repr-fallback {display: none;}</style><div id=\"sk-container-id-7\" class=\"sk-top-container\"><div class=\"sk-text-repr-fallback\"><pre>RandomizedSearchCV(cv=3, estimator=SVC(), n_iter=200, n_jobs=-1,\n",
       "                   param_distributions={&#x27;C&#x27;: array([1.e-04, 1.e+00, 1.e+04]),\n",
       "                                        &#x27;gamma&#x27;: [1, 0.1, 0.0001],\n",
       "                                        &#x27;kernel&#x27;: [&#x27;sigmoid&#x27;, &#x27;linear&#x27;, &#x27;rbf&#x27;,\n",
       "                                                   &#x27;poly&#x27;]},\n",
       "                   verbose=True)</pre><b>In a Jupyter environment, please rerun this cell to show the HTML representation or trust the notebook. <br />On GitHub, the HTML representation is unable to render, please try loading this page with nbviewer.org.</b></div><div class=\"sk-container\" hidden><div class=\"sk-item sk-dashed-wrapped\"><div class=\"sk-label-container\"><div class=\"sk-label sk-toggleable\"><input class=\"sk-toggleable__control sk-hidden--visually\" id=\"sk-estimator-id-19\" type=\"checkbox\" ><label for=\"sk-estimator-id-19\" class=\"sk-toggleable__label sk-toggleable__label-arrow\">RandomizedSearchCV</label><div class=\"sk-toggleable__content\"><pre>RandomizedSearchCV(cv=3, estimator=SVC(), n_iter=200, n_jobs=-1,\n",
       "                   param_distributions={&#x27;C&#x27;: array([1.e-04, 1.e+00, 1.e+04]),\n",
       "                                        &#x27;gamma&#x27;: [1, 0.1, 0.0001],\n",
       "                                        &#x27;kernel&#x27;: [&#x27;sigmoid&#x27;, &#x27;linear&#x27;, &#x27;rbf&#x27;,\n",
       "                                                   &#x27;poly&#x27;]},\n",
       "                   verbose=True)</pre></div></div></div><div class=\"sk-parallel\"><div class=\"sk-parallel-item\"><div class=\"sk-item\"><div class=\"sk-label-container\"><div class=\"sk-label sk-toggleable\"><input class=\"sk-toggleable__control sk-hidden--visually\" id=\"sk-estimator-id-20\" type=\"checkbox\" ><label for=\"sk-estimator-id-20\" class=\"sk-toggleable__label sk-toggleable__label-arrow\">estimator: SVC</label><div class=\"sk-toggleable__content\"><pre>SVC()</pre></div></div></div><div class=\"sk-serial\"><div class=\"sk-item\"><div class=\"sk-estimator sk-toggleable\"><input class=\"sk-toggleable__control sk-hidden--visually\" id=\"sk-estimator-id-21\" type=\"checkbox\" ><label for=\"sk-estimator-id-21\" class=\"sk-toggleable__label sk-toggleable__label-arrow\">SVC</label><div class=\"sk-toggleable__content\"><pre>SVC()</pre></div></div></div></div></div></div></div></div></div></div>"
      ],
      "text/plain": [
       "RandomizedSearchCV(cv=3, estimator=SVC(), n_iter=200, n_jobs=-1,\n",
       "                   param_distributions={'C': array([1.e-04, 1.e+00, 1.e+04]),\n",
       "                                        'gamma': [1, 0.1, 0.0001],\n",
       "                                        'kernel': ['sigmoid', 'linear', 'rbf',\n",
       "                                                   'poly']},\n",
       "                   verbose=True)"
      ]
     },
     "execution_count": 141,
     "metadata": {},
     "output_type": "execute_result"
    }
   ],
   "source": [
    "\n",
    "np.random.seed(42)\n",
    "svc_grid = {\"C\": np.logspace(-4, 4, 20),\n",
    "           \"kernel\": [\"sigmoid\", \"linear\", \"rbf\", \"poly\"],\n",
    "           'gamma': [1, 0.7, 0.1, 0.0001]}\n",
    "\n",
    "rf_grid = {\"n_estimators\": [100,150,200],\n",
    "           \"max_depth\": [None, 3, 5, 10],\n",
    "           \"min_samples_split\": np.arange(2, 20, 2),\n",
    "           \"min_samples_leaf\": np.arange(1, 20, 2)}   \n",
    "\n",
    "rs_svc = RandomizedSearchCV(SVC(), svc_grid, cv=3, verbose=True, n_iter=200, n_jobs=-1)\n",
    "rs_svc.fit(X_train, y_train)"
   ]
  },
  {
   "cell_type": "code",
   "execution_count": 221,
   "id": "b8dfa260-4115-4d9c-bf27-00b16f585a75",
   "metadata": {},
   "outputs": [
    {
     "data": {
      "text/plain": [
       "{'kernel': 'rbf', 'gamma': 0.1, 'C': 1.0}"
      ]
     },
     "execution_count": 221,
     "metadata": {},
     "output_type": "execute_result"
    }
   ],
   "source": [
    "rs_svc.best_params_"
   ]
  },
  {
   "cell_type": "code",
   "execution_count": 409,
   "id": "3a4feafd-2ee0-4724-9387-6a09fda34efe",
   "metadata": {},
   "outputs": [
    {
     "data": {
      "text/plain": [
       "0.9331742243436754"
      ]
     },
     "execution_count": 409,
     "metadata": {},
     "output_type": "execute_result"
    }
   ],
   "source": [
    "model = SVC(kernel=\"rbf\", gamma=0.1, C=1.0, random_state=42)\n",
    "model.fit(X_train, y_train)\n",
    "model.score(X_test, y_test)"
   ]
  },
  {
   "cell_type": "code",
   "execution_count": 410,
   "id": "7e8a3619-ae22-4925-a8c7-a1e00782c80d",
   "metadata": {},
   "outputs": [],
   "source": [
    "preds = model.predict(X_test)"
   ]
  },
  {
   "cell_type": "code",
   "execution_count": 411,
   "id": "7af31a64-d66c-458b-8a79-e0d78abc4274",
   "metadata": {},
   "outputs": [
    {
     "data": {
      "text/plain": [
       "(0.9227272727272727,\n",
       " 0.9485981308411215,\n",
       " 0.9354838709677419,\n",
       " 0.9331742243436754)"
      ]
     },
     "execution_count": 411,
     "metadata": {},
     "output_type": "execute_result"
    }
   ],
   "source": [
    "recall_score(y_test, preds), precision_score(y_test, preds), f1_score(y_test, preds), model.score(X_test, y_test)"
   ]
  },
  {
   "cell_type": "code",
   "execution_count": 196,
   "id": "a49702ea-9ed9-4d0f-85c1-09f54608ca4c",
   "metadata": {},
   "outputs": [
    {
     "ename": "SyntaxError",
     "evalue": "invalid syntax (2932206639.py, line 1)",
     "output_type": "error",
     "traceback": [
      "\u001B[1;36m  Cell \u001B[1;32mIn[196], line 1\u001B[1;36m\u001B[0m\n\u001B[1;33m    0.95833 gamma=0.5\u001B[0m\n\u001B[1;37m            ^\u001B[0m\n\u001B[1;31mSyntaxError\u001B[0m\u001B[1;31m:\u001B[0m invalid syntax\n"
     ]
    }
   ],
   "source": [
    "0.95833 gamma=0.5"
   ]
  },
  {
   "cell_type": "code",
   "execution_count": 412,
   "id": "39a765a4-8b61-4b5d-9ea9-dfa6df89b1e8",
   "metadata": {},
   "outputs": [
    {
     "data": {
      "text/plain": [
       "array([[188,  11],\n",
       "       [ 17, 203]], dtype=int64)"
      ]
     },
     "execution_count": 412,
     "metadata": {},
     "output_type": "execute_result"
    }
   ],
   "source": [
    "confusion_matrix(y_test, preds)"
   ]
  },
  {
   "cell_type": "code",
   "execution_count": 413,
   "id": "27e45b13-5aee-4ff6-92e7-a8ba681ed346",
   "metadata": {},
   "outputs": [
    {
     "name": "stdout",
     "output_type": "stream",
     "text": [
      "              precision    recall  f1-score   support\n",
      "\n",
      "           0       0.92      0.94      0.93       199\n",
      "           1       0.95      0.92      0.94       220\n",
      "\n",
      "    accuracy                           0.93       419\n",
      "   macro avg       0.93      0.93      0.93       419\n",
      "weighted avg       0.93      0.93      0.93       419\n"
     ]
    }
   ],
   "source": [
    "print(classification_report(y_test, preds))"
   ]
  },
  {
   "cell_type": "code",
   "execution_count": 414,
   "id": "92607ed7-43e1-47c1-b4bb-2e03c5146fad",
   "metadata": {},
   "outputs": [
    {
     "data": {
      "text/plain": [
       "1142"
      ]
     },
     "execution_count": 414,
     "metadata": {},
     "output_type": "execute_result"
    }
   ],
   "source": [
    "df_final[\"target_\"].sum()"
   ]
  },
  {
   "cell_type": "code",
   "execution_count": 464,
   "id": "beddf558-d2e7-4962-a8ef-bbdc90096f16",
   "metadata": {},
   "outputs": [],
   "source": [
    "def is_spam(message, model=model):\n",
    "    \"\"\"\n",
    "    Predicts whether a given message or list of messages is spam or not.\n",
    "\n",
    "    Parameters:\n",
    "    - message (str or list of str): The message or list of messages to be classified. If a single message is provided,\n",
    "      it should be a string. If multiple messages are provided, they should be contained within a list of strings.\n",
    "\n",
    "    Returns:\n",
    "    - pred (array-like): An array-like object containing the predicted labels for each input message. A value of 1\n",
    "      indicates that the message is classified as spam, while a value of 0 indicates that the message is not spam.\n",
    "    \"\"\"\n",
    "    if isinstance(message, list):\n",
    "        words_ = [message_to_words(message_) for message_ in message]\n",
    "    elif isinstance(message, str):\n",
    "        words_ = [message_to_words(message)]\n",
    "    else:\n",
    "        print(\"The provided data is in the wrong format. Please provide the data in the format of a list or a string.\")\n",
    "    rows = make_rows(words_)\n",
    "    df_test = pd.DataFrame(rows, columns=words)\n",
    "    df_test = df_test.dropna()\n",
    "    pred = model.predict(df_test)\n",
    "    return pred"
   ]
  },
  {
   "cell_type": "code",
   "execution_count": 459,
   "id": "dca448fb-73f3-466a-a612-8f5152b13f75",
   "metadata": {},
   "outputs": [],
   "source": [
    "comments = [\n",
    "    \"Beautiful photo! 😍\",\n",
    "    \"Great content as always!\",\n",
    "    \"Love your style! 💖\",\n",
    "    \"Amazing shot! 📸\",\n",
    "    \"Nice feed! Keep it up!\",\n",
    "    \"This is so cool! 😎\",\n",
    "    \"You're so talented!\",\n",
    "    \"Awesome post!\",\n",
    "    \"I admire your work!\",\n",
    "    \"Fantastic picture! 👌\",\n",
    "    \"Check out my profile for amazing deals!\",\n",
    "    \"Get free followers now! Click the link in bio!\",\n",
    "    \"Want to be Instagram famous? Follow me!\",\n",
    "    \"Buy followers and likes! Best prices here!\",\n",
    "    \"I make $1000 a day on Instagram! Ask me how!\",\n",
    "    \"Get rich quick! Follow my strategy!\",\n",
    "    \"Want to grow your account? DM me!\",\n",
    "    \"Limited time offer! Follow for discounts!\",\n",
    "    \"Boost your engagement! Follow for tips!\",\n",
    "    \"Get verified on Instagram! DM me for details!\",\n",
    "]\n",
    "results = is_spam(comments)"
   ]
  },
  {
   "cell_type": "code",
   "execution_count": 460,
   "id": "f9b0f7b3-85eb-46c7-9f60-9559b5d28f02",
   "metadata": {},
   "outputs": [
    {
     "data": {
      "text/plain": [
       "array([0, 0, 0, 0, 0, 0, 0, 0, 0, 0, 1, 1, 1, 0, 1, 1, 1, 1, 1, 1],\n",
       "      dtype=int64)"
      ]
     },
     "execution_count": 460,
     "metadata": {},
     "output_type": "execute_result"
    }
   ],
   "source": [
    "results"
   ]
  },
  {
   "cell_type": "code",
   "execution_count": 461,
   "id": "3e541171-3699-41d9-96c3-6307c88df046",
   "metadata": {},
   "outputs": [
    {
     "data": {
      "text/plain": [
       "array([1], dtype=int64)"
      ]
     },
     "execution_count": 461,
     "metadata": {},
     "output_type": "execute_result"
    }
   ],
   "source": [
    "is_spam(\"🚨🚨🚨 ATTENTION ALL INSTAGRAM USERS 🚨🚨🚨 Want to make $1000 a day from home? 💰💰💰 Click the link in my bio NOW to join our exclusive money-making club! 💵💵💵 Don't miss out on this amazing opportunity! 🔥🔥🔥 #makemoneyonline #financialfreedom #getrichquick\")"
   ]
  },
  {
   "cell_type": "code",
   "execution_count": 462,
   "id": "40363b08-514a-4838-ae6a-a7b350b4f6cc",
   "metadata": {},
   "outputs": [
    {
     "data": {
      "text/plain": [
       "array([0], dtype=int64)"
      ]
     },
     "execution_count": 462,
     "metadata": {},
     "output_type": "execute_result"
    }
   ],
   "source": [
    "is_spam(\"Absolutely stunning capture! 😍 The colors in this photo are so vibrant, it's like a work of art. Makes me miss our adventures together!\")"
   ]
  },
  {
   "cell_type": "code",
   "execution_count": 453,
   "id": "1b16ccce-9a8b-4d1c-9c9c-4949ec4d776e",
   "metadata": {},
   "outputs": [],
   "source": [
    "import pickle\n",
    "\n",
    "with open('your_model.pkl', 'wb') as f:\n",
    "    pickle.dump(model, f)\n"
   ]
  },
  {
   "cell_type": "code",
   "execution_count": 454,
   "id": "551e7ae7-2e1f-4353-b429-7fc22c9e8c8d",
   "metadata": {},
   "outputs": [],
   "source": [
    "with open('your_model.pkl', 'rb') as f:\n",
    "    loaded_model = pickle.load(f)"
   ]
  },
  {
   "cell_type": "code",
   "execution_count": 473,
   "id": "7ced9999-6719-4f33-9ff1-864678e2f380",
   "metadata": {},
   "outputs": [
    {
     "data": {
      "text/plain": [
       "array([0], dtype=int64)"
      ]
     },
     "execution_count": 473,
     "metadata": {},
     "output_type": "execute_result"
    }
   ],
   "source": [
    "is_spam(\"This photo is beautiful. Where was it taken? I'm curious to know!\", model=loaded_model)"
   ]
  },
  {
   "cell_type": "code",
   "execution_count": null,
   "id": "7db276a7-8b5a-4ead-b35e-d0512afbe37b",
   "metadata": {},
   "outputs": [],
   "source": []
  }
 ],
 "metadata": {
  "kernelspec": {
   "display_name": "Python 3 (ipykernel)",
   "language": "python",
   "name": "python3"
  },
  "language_info": {
   "codemirror_mode": {
    "name": "ipython",
    "version": 3
   },
   "file_extension": ".py",
   "mimetype": "text/x-python",
   "name": "python",
   "nbconvert_exporter": "python",
   "pygments_lexer": "ipython3",
   "version": "3.11.1"
  }
 },
 "nbformat": 4,
 "nbformat_minor": 5
}
