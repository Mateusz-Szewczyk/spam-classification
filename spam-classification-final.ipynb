{
 "cells": [
  {
   "cell_type": "markdown",
   "id": "9159df1e-74d9-404a-ad8f-aedf86b04957",
   "metadata": {},
   "source": [
    "# Spam classification \n"
   ]
  },
  {
   "cell_type": "code",
   "execution_count": 1,
   "outputs": [],
   "source": [
    "import numpy as np\n",
    "import pandas as pd"
   ],
   "metadata": {
    "collapsed": false,
    "ExecuteTime": {
     "end_time": "2024-02-18T14:32:52.552657500Z",
     "start_time": "2024-02-18T14:32:51.428004800Z"
    }
   },
   "id": "eede6743-6bb3-405b-be9e-b296a68011b4"
  },
  {
   "cell_type": "code",
   "execution_count": 7,
   "id": "a64cb257-6138-4716-82c3-fb4b7f79a172",
   "metadata": {
    "ExecuteTime": {
     "end_time": "2024-02-18T14:35:05.301395300Z",
     "start_time": "2024-02-18T14:35:05.263555100Z"
    }
   },
   "outputs": [],
   "source": [
    "# Read a CSV file named \"words_list.csv\" into a pandas DataFrame and \n",
    "# squeeze it into a pandas Series\n",
    "words = pd.read_csv(\"words_list.csv\").squeeze()"
   ]
  },
  {
   "cell_type": "code",
   "execution_count": 8,
   "id": "96f7a5db-5e6a-46d2-a659-abd22bd541d9",
   "metadata": {
    "ExecuteTime": {
     "end_time": "2024-02-18T14:35:07.366353600Z",
     "start_time": "2024-02-18T14:35:07.343454100Z"
    }
   },
   "outputs": [
    {
     "data": {
      "text/plain": "0       the\n1        be\n2       and\n3        of\n4         a\n       ... \n5043      🚀\n5044      🌟\n5045      💥\n5046      🎊\n5047      💪\nName: 0, Length: 5048, dtype: object"
     },
     "execution_count": 8,
     "metadata": {},
     "output_type": "execute_result"
    }
   ],
   "source": [
    "words"
   ]
  },
  {
   "cell_type": "code",
   "execution_count": 12,
   "id": "77c925e5-87ff-4a48-9b81-4c80fe244603",
   "metadata": {
    "ExecuteTime": {
     "end_time": "2024-02-18T14:36:04.904777700Z",
     "start_time": "2024-02-18T14:36:04.903782300Z"
    }
   },
   "outputs": [],
   "source": [
    "# Read data from the \"comments.csv\" file into a pandas DataFrame\n",
    "comments = pd.read_csv(\"comments.csv\")"
   ]
  },
  {
   "cell_type": "code",
   "execution_count": 21,
   "id": "633e60aa-a1cf-46e6-9d44-8fe54e300b57",
   "metadata": {
    "ExecuteTime": {
     "end_time": "2024-02-18T14:45:40.210119700Z",
     "start_time": "2024-02-18T14:45:39.110687800Z"
    }
   },
   "outputs": [],
   "source": [
    "# Load preprocessed data from the file \"comments_data.csv\", ready for further analysis\n",
    "comments_processed = pd.read_csv(\"comments_data.csv\")"
   ]
  },
  {
   "cell_type": "code",
   "execution_count": 22,
   "id": "757334ef-e3ad-4e79-a480-22bc7cd4dfbf",
   "metadata": {
    "ExecuteTime": {
     "end_time": "2024-02-18T14:45:41.572919100Z",
     "start_time": "2024-02-18T14:45:41.481642500Z"
    }
   },
   "outputs": [
    {
     "data": {
      "text/plain": "      the  be  and  of  a  in  to  have  to.1  it  ...  😎  🙌  👏  ✨  🚀  🌟  💥  \\\n0       0   0    0   0  0   0   0     0     0   0  ...  0  0  0  0  0  0  0   \n1       1   0    1   0  1   1   0     0     0   0  ...  0  0  0  0  0  0  0   \n2       0   0    0   0  0   0   1     1     1   0  ...  0  0  0  0  0  0  0   \n3       0   0    0   0  0   0   0     0     0   0  ...  0  0  0  0  0  0  0   \n4       0   0    0   0  0   0   0     0     0   0  ...  0  0  0  0  0  0  0   \n...   ...  ..  ...  .. ..  ..  ..   ...   ...  ..  ... .. .. .. .. .. .. ..   \n2088    1   0    1   0  0   0   0     0     0   0  ...  0  0  0  0  0  0  0   \n2089    1   0    1   0  1   0   1     0     1   0  ...  0  0  0  0  0  0  0   \n2090    0   0    0   0  0   0   0     0     0   0  ...  0  0  0  0  0  0  0   \n2091    0   0    1   0  1   0   1     0     1   0  ...  0  0  0  0  0  0  0   \n2092    0   0    1   0  0   0   0     0     0   0  ...  0  0  0  0  0  0  0   \n\n      🎊  💪  target_  \n0     0  0        1  \n1     0  0        1  \n2     0  0        1  \n3     0  0        1  \n4     0  0        1  \n...  .. ..      ...  \n2088  0  0        1  \n2089  0  0        1  \n2090  0  0        1  \n2091  0  0        1  \n2092  0  0        1  \n\n[2093 rows x 5049 columns]",
      "text/html": "<div>\n<style scoped>\n    .dataframe tbody tr th:only-of-type {\n        vertical-align: middle;\n    }\n\n    .dataframe tbody tr th {\n        vertical-align: top;\n    }\n\n    .dataframe thead th {\n        text-align: right;\n    }\n</style>\n<table border=\"1\" class=\"dataframe\">\n  <thead>\n    <tr style=\"text-align: right;\">\n      <th></th>\n      <th>the</th>\n      <th>be</th>\n      <th>and</th>\n      <th>of</th>\n      <th>a</th>\n      <th>in</th>\n      <th>to</th>\n      <th>have</th>\n      <th>to.1</th>\n      <th>it</th>\n      <th>...</th>\n      <th>😎</th>\n      <th>🙌</th>\n      <th>👏</th>\n      <th>✨</th>\n      <th>🚀</th>\n      <th>🌟</th>\n      <th>💥</th>\n      <th>🎊</th>\n      <th>💪</th>\n      <th>target_</th>\n    </tr>\n  </thead>\n  <tbody>\n    <tr>\n      <th>0</th>\n      <td>0</td>\n      <td>0</td>\n      <td>0</td>\n      <td>0</td>\n      <td>0</td>\n      <td>0</td>\n      <td>0</td>\n      <td>0</td>\n      <td>0</td>\n      <td>0</td>\n      <td>...</td>\n      <td>0</td>\n      <td>0</td>\n      <td>0</td>\n      <td>0</td>\n      <td>0</td>\n      <td>0</td>\n      <td>0</td>\n      <td>0</td>\n      <td>0</td>\n      <td>1</td>\n    </tr>\n    <tr>\n      <th>1</th>\n      <td>1</td>\n      <td>0</td>\n      <td>1</td>\n      <td>0</td>\n      <td>1</td>\n      <td>1</td>\n      <td>0</td>\n      <td>0</td>\n      <td>0</td>\n      <td>0</td>\n      <td>...</td>\n      <td>0</td>\n      <td>0</td>\n      <td>0</td>\n      <td>0</td>\n      <td>0</td>\n      <td>0</td>\n      <td>0</td>\n      <td>0</td>\n      <td>0</td>\n      <td>1</td>\n    </tr>\n    <tr>\n      <th>2</th>\n      <td>0</td>\n      <td>0</td>\n      <td>0</td>\n      <td>0</td>\n      <td>0</td>\n      <td>0</td>\n      <td>1</td>\n      <td>1</td>\n      <td>1</td>\n      <td>0</td>\n      <td>...</td>\n      <td>0</td>\n      <td>0</td>\n      <td>0</td>\n      <td>0</td>\n      <td>0</td>\n      <td>0</td>\n      <td>0</td>\n      <td>0</td>\n      <td>0</td>\n      <td>1</td>\n    </tr>\n    <tr>\n      <th>3</th>\n      <td>0</td>\n      <td>0</td>\n      <td>0</td>\n      <td>0</td>\n      <td>0</td>\n      <td>0</td>\n      <td>0</td>\n      <td>0</td>\n      <td>0</td>\n      <td>0</td>\n      <td>...</td>\n      <td>0</td>\n      <td>0</td>\n      <td>0</td>\n      <td>0</td>\n      <td>0</td>\n      <td>0</td>\n      <td>0</td>\n      <td>0</td>\n      <td>0</td>\n      <td>1</td>\n    </tr>\n    <tr>\n      <th>4</th>\n      <td>0</td>\n      <td>0</td>\n      <td>0</td>\n      <td>0</td>\n      <td>0</td>\n      <td>0</td>\n      <td>0</td>\n      <td>0</td>\n      <td>0</td>\n      <td>0</td>\n      <td>...</td>\n      <td>0</td>\n      <td>0</td>\n      <td>0</td>\n      <td>0</td>\n      <td>0</td>\n      <td>0</td>\n      <td>0</td>\n      <td>0</td>\n      <td>0</td>\n      <td>1</td>\n    </tr>\n    <tr>\n      <th>...</th>\n      <td>...</td>\n      <td>...</td>\n      <td>...</td>\n      <td>...</td>\n      <td>...</td>\n      <td>...</td>\n      <td>...</td>\n      <td>...</td>\n      <td>...</td>\n      <td>...</td>\n      <td>...</td>\n      <td>...</td>\n      <td>...</td>\n      <td>...</td>\n      <td>...</td>\n      <td>...</td>\n      <td>...</td>\n      <td>...</td>\n      <td>...</td>\n      <td>...</td>\n      <td>...</td>\n    </tr>\n    <tr>\n      <th>2088</th>\n      <td>1</td>\n      <td>0</td>\n      <td>1</td>\n      <td>0</td>\n      <td>0</td>\n      <td>0</td>\n      <td>0</td>\n      <td>0</td>\n      <td>0</td>\n      <td>0</td>\n      <td>...</td>\n      <td>0</td>\n      <td>0</td>\n      <td>0</td>\n      <td>0</td>\n      <td>0</td>\n      <td>0</td>\n      <td>0</td>\n      <td>0</td>\n      <td>0</td>\n      <td>1</td>\n    </tr>\n    <tr>\n      <th>2089</th>\n      <td>1</td>\n      <td>0</td>\n      <td>1</td>\n      <td>0</td>\n      <td>1</td>\n      <td>0</td>\n      <td>1</td>\n      <td>0</td>\n      <td>1</td>\n      <td>0</td>\n      <td>...</td>\n      <td>0</td>\n      <td>0</td>\n      <td>0</td>\n      <td>0</td>\n      <td>0</td>\n      <td>0</td>\n      <td>0</td>\n      <td>0</td>\n      <td>0</td>\n      <td>1</td>\n    </tr>\n    <tr>\n      <th>2090</th>\n      <td>0</td>\n      <td>0</td>\n      <td>0</td>\n      <td>0</td>\n      <td>0</td>\n      <td>0</td>\n      <td>0</td>\n      <td>0</td>\n      <td>0</td>\n      <td>0</td>\n      <td>...</td>\n      <td>0</td>\n      <td>0</td>\n      <td>0</td>\n      <td>0</td>\n      <td>0</td>\n      <td>0</td>\n      <td>0</td>\n      <td>0</td>\n      <td>0</td>\n      <td>1</td>\n    </tr>\n    <tr>\n      <th>2091</th>\n      <td>0</td>\n      <td>0</td>\n      <td>1</td>\n      <td>0</td>\n      <td>1</td>\n      <td>0</td>\n      <td>1</td>\n      <td>0</td>\n      <td>1</td>\n      <td>0</td>\n      <td>...</td>\n      <td>0</td>\n      <td>0</td>\n      <td>0</td>\n      <td>0</td>\n      <td>0</td>\n      <td>0</td>\n      <td>0</td>\n      <td>0</td>\n      <td>0</td>\n      <td>1</td>\n    </tr>\n    <tr>\n      <th>2092</th>\n      <td>0</td>\n      <td>0</td>\n      <td>1</td>\n      <td>0</td>\n      <td>0</td>\n      <td>0</td>\n      <td>0</td>\n      <td>0</td>\n      <td>0</td>\n      <td>0</td>\n      <td>...</td>\n      <td>0</td>\n      <td>0</td>\n      <td>0</td>\n      <td>0</td>\n      <td>0</td>\n      <td>0</td>\n      <td>0</td>\n      <td>0</td>\n      <td>0</td>\n      <td>1</td>\n    </tr>\n  </tbody>\n</table>\n<p>2093 rows × 5049 columns</p>\n</div>"
     },
     "execution_count": 22,
     "metadata": {},
     "output_type": "execute_result"
    }
   ],
   "source": [
    "comments_processed = comments_processed.loc[:, ~comments_processed.columns.duplicated()]\n",
    "comments_processed"
   ]
  },
  {
   "cell_type": "code",
   "execution_count": 24,
   "id": "cc5fb124-dce8-4a89-887c-ef47f1acc0dc",
   "metadata": {
    "ExecuteTime": {
     "end_time": "2024-02-18T14:52:29.403791100Z",
     "start_time": "2024-02-18T14:52:29.361387Z"
    }
   },
   "outputs": [],
   "source": [
    "def message_to_words(message):\n",
    "    \"\"\"\n",
    "    The message_to_words(message) function accepts a string as input. \n",
    "    It splits the input string into individual words, \n",
    "    converts each word to lowercase, and returns a list of these lowercase words.\n",
    "    \"\"\"\n",
    "    return message.lower().split()"
   ]
  },
  {
   "cell_type": "code",
   "execution_count": 27,
   "id": "ad8e5404-40bd-4441-ba93-7c4809439232",
   "metadata": {
    "ExecuteTime": {
     "end_time": "2024-02-18T15:01:52.478519400Z",
     "start_time": "2024-02-18T15:01:52.435446100Z"
    }
   },
   "outputs": [],
   "source": [
    "def count_uppercase(strings):\n",
    "    uppercase_counts = []\n",
    "    for string in strings:\n",
    "        uppercase_count = sum(1 for char in string if char.isupper())\n",
    "        uppercase_counts.append(uppercase_count)\n",
    "    return sum(uppercase_counts)"
   ]
  },
  {
   "cell_type": "code",
   "execution_count": 28,
   "outputs": [],
   "source": [
    "def make_rows(messages, words=words):\n",
    "    \"\"\"\n",
    "    The make_rows(messages, words) function accepts a list of messages and a list of words.\n",
    "    It generates a list of dictionaries where each dictionary represents a message and \n",
    "    indicates the presence of each word from the specified word list.\n",
    "    \"\"\"\n",
    "    result = []\n",
    "    symbols_to_check = set(\".,!@#$%^&*()-+_=:;?/\\\\1234567890><😊😂😍👍🔥💯🎉❤️😎🙌👏✨🚀🌟💥🎊💪\")\n",
    "    for message in messages:\n",
    "        words_dict = {word: 1 if word in message else 0 for word in words}\n",
    "        words_dict[\"words_count\"] = len(message)\n",
    "        words_dict[\"big_letter_count\"] = count_uppercase(message)\n",
    "        for word in message:\n",
    "            for letter in word:\n",
    "                if letter in symbols_to_check:\n",
    "                    words_dict[letter] = 1\n",
    "            new_word = ''.join(char for char in word if char not in symbols_to_check)\n",
    "            if new_word in words:\n",
    "                words_dict[new_word] = 1\n",
    "        result.append(words_dict)\n",
    "    return result"
   ],
   "metadata": {
    "collapsed": false,
    "ExecuteTime": {
     "start_time": "2024-02-18T15:02:03.751173400Z"
    }
   },
   "id": "c17edfab-f66d-4ddd-b29b-b12410638f29"
  },
  {
   "cell_type": "code",
   "execution_count": null,
   "outputs": [],
   "source": [],
   "metadata": {
    "collapsed": false
   },
   "id": "f28daa9b124cb41f"
  },
  {
   "cell_type": "code",
   "execution_count": 32,
   "id": "b1c78213-9c30-4946-a6ac-4ffa46409076",
   "metadata": {
    "ExecuteTime": {
     "end_time": "2024-02-18T15:06:19.652983400Z",
     "start_time": "2024-02-18T15:06:14.061648500Z"
    }
   },
   "outputs": [],
   "source": [
    "messages = [message_to_words(message) for message in list(comments.CONTENT)]\n",
    "rows = make_rows(messages)\n",
    "df_final = pd.DataFrame(rows, columns=words)"
   ]
  },
  {
   "cell_type": "code",
   "execution_count": 35,
   "id": "04797e0e-6590-4582-940b-5a4edbadebae",
   "metadata": {
    "ExecuteTime": {
     "end_time": "2024-02-18T15:07:40.945777300Z",
     "start_time": "2024-02-18T15:07:40.906366700Z"
    }
   },
   "outputs": [],
   "source": [
    "df_final[\"target_\"] = comments.CLASS"
   ]
  },
  {
   "cell_type": "code",
   "execution_count": 36,
   "id": "10d7ddbf-503e-41b2-b2a1-a782b4a468d0",
   "metadata": {
    "ExecuteTime": {
     "end_time": "2024-02-18T15:07:43.529241800Z",
     "start_time": "2024-02-18T15:07:43.423370100Z"
    }
   },
   "outputs": [],
   "source": [
    "from sklearn.svm import SVC\n",
    "from sklearn.neighbors import KNeighborsClassifier\n",
    "from sklearn.ensemble import RandomForestClassifier\n",
    "from sklearn.linear_model import LogisticRegression\n",
    "from sklearn.svm import LinearSVC\n",
    "\n",
    "from sklearn.model_selection import train_test_split\n",
    "from sklearn.model_selection import RandomizedSearchCV\n",
    "from sklearn.metrics import confusion_matrix, classification_report\n",
    "from sklearn.metrics import precision_score, recall_score, f1_score\n",
    "\n",
    "\n",
    "X = df_final.drop(\"target_\", axis=1)\n",
    "y = df_final[\"target_\"]\n",
    "\n",
    "X_train, X_test, y_train, y_test = train_test_split(X, y, test_size=0.2, random_state=42)"
   ]
  },
  {
   "cell_type": "code",
   "execution_count": 37,
   "id": "61aecd59-ecf5-4580-979a-19d0a21fe01a",
   "metadata": {
    "ExecuteTime": {
     "end_time": "2024-02-18T15:07:47.000539100Z",
     "start_time": "2024-02-18T15:07:46.994581900Z"
    }
   },
   "outputs": [],
   "source": [
    "models = {\"Logistic Regression\": LogisticRegression(),\n",
    "          \"KNN\": KNeighborsClassifier(),\n",
    "          \"Random Forest\": RandomForestClassifier(),\n",
    "          \"SVC\": SVC(),\n",
    "         \"LinearSVC\": LinearSVC(dual=\"auto\")}\n",
    "\n",
    "def fit_and_score(models, X_train, X_test, y_train, y_test):\n",
    "    np.random.seed(42)\n",
    "    model_scores = {}\n",
    "    for name, model in models.items():\n",
    "        model.fit(X_train, y_train)\n",
    "        model_scores[name] = model.score(X_test, y_test)\n",
    "    return model_scores"
   ]
  },
  {
   "cell_type": "code",
   "execution_count": 38,
   "id": "5bd5500c-603b-4a00-a175-aa242867df6a",
   "metadata": {
    "ExecuteTime": {
     "end_time": "2024-02-18T15:07:58.417499500Z",
     "start_time": "2024-02-18T15:07:50.115133Z"
    }
   },
   "outputs": [
    {
     "data": {
      "text/plain": "{'Logistic Regression': 0.9236276849642004,\n 'KNN': 0.8663484486873508,\n 'Random Forest': 0.9284009546539379,\n 'SVC': 0.9331742243436754,\n 'LinearSVC': 0.9069212410501193}"
     },
     "execution_count": 38,
     "metadata": {},
     "output_type": "execute_result"
    }
   ],
   "source": [
    "fit_and_score(models, X_train, X_test, y_train, y_test)"
   ]
  },
  {
   "cell_type": "code",
   "execution_count": 141,
   "id": "9a54f9aa-d3fe-4459-97ab-2220cf9d1d77",
   "metadata": {},
   "outputs": [
    {
     "name": "stderr",
     "output_type": "stream",
     "text": [
      "C:\\Users\\mrinc\\AppData\\Local\\Programs\\Python\\Python311\\Lib\\site-packages\\sklearn\\model_selection\\_search.py:307: UserWarning: The total space of parameters 36 is smaller than n_iter=200. Running 36 iterations. For exhaustive searches, use GridSearchCV.\n",
      "  warnings.warn(\n"
     ]
    },
    {
     "name": "stdout",
     "output_type": "stream",
     "text": [
      "Fitting 3 folds for each of 36 candidates, totalling 108 fits\n"
     ]
    },
    {
     "data": {
      "text/html": [
       "<style>#sk-container-id-7 {color: black;}#sk-container-id-7 pre{padding: 0;}#sk-container-id-7 div.sk-toggleable {background-color: white;}#sk-container-id-7 label.sk-toggleable__label {cursor: pointer;display: block;width: 100%;margin-bottom: 0;padding: 0.3em;box-sizing: border-box;text-align: center;}#sk-container-id-7 label.sk-toggleable__label-arrow:before {content: \"▸\";float: left;margin-right: 0.25em;color: #696969;}#sk-container-id-7 label.sk-toggleable__label-arrow:hover:before {color: black;}#sk-container-id-7 div.sk-estimator:hover label.sk-toggleable__label-arrow:before {color: black;}#sk-container-id-7 div.sk-toggleable__content {max-height: 0;max-width: 0;overflow: hidden;text-align: left;background-color: #f0f8ff;}#sk-container-id-7 div.sk-toggleable__content pre {margin: 0.2em;color: black;border-radius: 0.25em;background-color: #f0f8ff;}#sk-container-id-7 input.sk-toggleable__control:checked~div.sk-toggleable__content {max-height: 200px;max-width: 100%;overflow: auto;}#sk-container-id-7 input.sk-toggleable__control:checked~label.sk-toggleable__label-arrow:before {content: \"▾\";}#sk-container-id-7 div.sk-estimator input.sk-toggleable__control:checked~label.sk-toggleable__label {background-color: #d4ebff;}#sk-container-id-7 div.sk-label input.sk-toggleable__control:checked~label.sk-toggleable__label {background-color: #d4ebff;}#sk-container-id-7 input.sk-hidden--visually {border: 0;clip: rect(1px 1px 1px 1px);clip: rect(1px, 1px, 1px, 1px);height: 1px;margin: -1px;overflow: hidden;padding: 0;position: absolute;width: 1px;}#sk-container-id-7 div.sk-estimator {font-family: monospace;background-color: #f0f8ff;border: 1px dotted black;border-radius: 0.25em;box-sizing: border-box;margin-bottom: 0.5em;}#sk-container-id-7 div.sk-estimator:hover {background-color: #d4ebff;}#sk-container-id-7 div.sk-parallel-item::after {content: \"\";width: 100%;border-bottom: 1px solid gray;flex-grow: 1;}#sk-container-id-7 div.sk-label:hover label.sk-toggleable__label {background-color: #d4ebff;}#sk-container-id-7 div.sk-serial::before {content: \"\";position: absolute;border-left: 1px solid gray;box-sizing: border-box;top: 0;bottom: 0;left: 50%;z-index: 0;}#sk-container-id-7 div.sk-serial {display: flex;flex-direction: column;align-items: center;background-color: white;padding-right: 0.2em;padding-left: 0.2em;position: relative;}#sk-container-id-7 div.sk-item {position: relative;z-index: 1;}#sk-container-id-7 div.sk-parallel {display: flex;align-items: stretch;justify-content: center;background-color: white;position: relative;}#sk-container-id-7 div.sk-item::before, #sk-container-id-7 div.sk-parallel-item::before {content: \"\";position: absolute;border-left: 1px solid gray;box-sizing: border-box;top: 0;bottom: 0;left: 50%;z-index: -1;}#sk-container-id-7 div.sk-parallel-item {display: flex;flex-direction: column;z-index: 1;position: relative;background-color: white;}#sk-container-id-7 div.sk-parallel-item:first-child::after {align-self: flex-end;width: 50%;}#sk-container-id-7 div.sk-parallel-item:last-child::after {align-self: flex-start;width: 50%;}#sk-container-id-7 div.sk-parallel-item:only-child::after {width: 0;}#sk-container-id-7 div.sk-dashed-wrapped {border: 1px dashed gray;margin: 0 0.4em 0.5em 0.4em;box-sizing: border-box;padding-bottom: 0.4em;background-color: white;}#sk-container-id-7 div.sk-label label {font-family: monospace;font-weight: bold;display: inline-block;line-height: 1.2em;}#sk-container-id-7 div.sk-label-container {text-align: center;}#sk-container-id-7 div.sk-container {/* jupyter's `normalize.less` sets `[hidden] { display: none; }` but bootstrap.min.css set `[hidden] { display: none !important; }` so we also need the `!important` here to be able to override the default hidden behavior on the sphinx rendered scikit-learn.org. See: https://github.com/scikit-learn/scikit-learn/issues/21755 */display: inline-block !important;position: relative;}#sk-container-id-7 div.sk-text-repr-fallback {display: none;}</style><div id=\"sk-container-id-7\" class=\"sk-top-container\"><div class=\"sk-text-repr-fallback\"><pre>RandomizedSearchCV(cv=3, estimator=SVC(), n_iter=200, n_jobs=-1,\n",
       "                   param_distributions={&#x27;C&#x27;: array([1.e-04, 1.e+00, 1.e+04]),\n",
       "                                        &#x27;gamma&#x27;: [1, 0.1, 0.0001],\n",
       "                                        &#x27;kernel&#x27;: [&#x27;sigmoid&#x27;, &#x27;linear&#x27;, &#x27;rbf&#x27;,\n",
       "                                                   &#x27;poly&#x27;]},\n",
       "                   verbose=True)</pre><b>In a Jupyter environment, please rerun this cell to show the HTML representation or trust the notebook. <br />On GitHub, the HTML representation is unable to render, please try loading this page with nbviewer.org.</b></div><div class=\"sk-container\" hidden><div class=\"sk-item sk-dashed-wrapped\"><div class=\"sk-label-container\"><div class=\"sk-label sk-toggleable\"><input class=\"sk-toggleable__control sk-hidden--visually\" id=\"sk-estimator-id-19\" type=\"checkbox\" ><label for=\"sk-estimator-id-19\" class=\"sk-toggleable__label sk-toggleable__label-arrow\">RandomizedSearchCV</label><div class=\"sk-toggleable__content\"><pre>RandomizedSearchCV(cv=3, estimator=SVC(), n_iter=200, n_jobs=-1,\n",
       "                   param_distributions={&#x27;C&#x27;: array([1.e-04, 1.e+00, 1.e+04]),\n",
       "                                        &#x27;gamma&#x27;: [1, 0.1, 0.0001],\n",
       "                                        &#x27;kernel&#x27;: [&#x27;sigmoid&#x27;, &#x27;linear&#x27;, &#x27;rbf&#x27;,\n",
       "                                                   &#x27;poly&#x27;]},\n",
       "                   verbose=True)</pre></div></div></div><div class=\"sk-parallel\"><div class=\"sk-parallel-item\"><div class=\"sk-item\"><div class=\"sk-label-container\"><div class=\"sk-label sk-toggleable\"><input class=\"sk-toggleable__control sk-hidden--visually\" id=\"sk-estimator-id-20\" type=\"checkbox\" ><label for=\"sk-estimator-id-20\" class=\"sk-toggleable__label sk-toggleable__label-arrow\">estimator: SVC</label><div class=\"sk-toggleable__content\"><pre>SVC()</pre></div></div></div><div class=\"sk-serial\"><div class=\"sk-item\"><div class=\"sk-estimator sk-toggleable\"><input class=\"sk-toggleable__control sk-hidden--visually\" id=\"sk-estimator-id-21\" type=\"checkbox\" ><label for=\"sk-estimator-id-21\" class=\"sk-toggleable__label sk-toggleable__label-arrow\">SVC</label><div class=\"sk-toggleable__content\"><pre>SVC()</pre></div></div></div></div></div></div></div></div></div></div>"
      ],
      "text/plain": [
       "RandomizedSearchCV(cv=3, estimator=SVC(), n_iter=200, n_jobs=-1,\n",
       "                   param_distributions={'C': array([1.e-04, 1.e+00, 1.e+04]),\n",
       "                                        'gamma': [1, 0.1, 0.0001],\n",
       "                                        'kernel': ['sigmoid', 'linear', 'rbf',\n",
       "                                                   'poly']},\n",
       "                   verbose=True)"
      ]
     },
     "execution_count": 141,
     "metadata": {},
     "output_type": "execute_result"
    }
   ],
   "source": [
    "np.random.seed(42)\n",
    "svc_grid = {\"C\": np.logspace(-4, 4, 20),\n",
    "           \"kernel\": [\"sigmoid\", \"linear\", \"rbf\", \"poly\"],\n",
    "           'gamma': [1, 0.7, 0.1, 0.0001]}\n",
    "\n",
    "rs_svc = RandomizedSearchCV(SVC(), svc_grid, cv=3, verbose=True, n_iter=200, n_jobs=-1)\n",
    "rs_svc.fit(X_train, y_train)"
   ]
  },
  {
   "cell_type": "code",
   "execution_count": 221,
   "id": "b8dfa260-4115-4d9c-bf27-00b16f585a75",
   "metadata": {},
   "outputs": [
    {
     "data": {
      "text/plain": [
       "{'kernel': 'rbf', 'gamma': 0.1, 'C': 1.0}"
      ]
     },
     "execution_count": 221,
     "metadata": {},
     "output_type": "execute_result"
    }
   ],
   "source": [
    "rs_svc.best_params_"
   ]
  },
  {
   "cell_type": "code",
   "execution_count": 67,
   "id": "3a4feafd-2ee0-4724-9387-6a09fda34efe",
   "metadata": {
    "ExecuteTime": {
     "end_time": "2024-02-18T15:19:28.207370200Z",
     "start_time": "2024-02-18T15:19:23.175544200Z"
    }
   },
   "outputs": [
    {
     "data": {
      "text/plain": "0.9355608591885441"
     },
     "execution_count": 67,
     "metadata": {},
     "output_type": "execute_result"
    }
   ],
   "source": [
    "model = SVC(kernel=\"rbf\", gamma=0.1, C=1.0, random_state=42)\n",
    "model.fit(X_train, y_train)\n",
    "model.score(X_test, y_test)"
   ]
  },
  {
   "cell_type": "code",
   "execution_count": 68,
   "id": "7e8a3619-ae22-4925-a8c7-a1e00782c80d",
   "metadata": {
    "ExecuteTime": {
     "end_time": "2024-02-18T15:19:35.610541700Z",
     "start_time": "2024-02-18T15:19:34.112371100Z"
    }
   },
   "outputs": [],
   "source": [
    "preds = model.predict(X_test)"
   ]
  },
  {
   "cell_type": "code",
   "execution_count": 69,
   "id": "7af31a64-d66c-458b-8a79-e0d78abc4274",
   "metadata": {
    "ExecuteTime": {
     "end_time": "2024-02-18T15:19:38.868277300Z",
     "start_time": "2024-02-18T15:19:37.328437500Z"
    }
   },
   "outputs": [
    {
     "data": {
      "text/plain": "0.9374004575615889"
     },
     "execution_count": 69,
     "metadata": {},
     "output_type": "execute_result"
    }
   ],
   "source": [
    "(recall_score(y_test, preds) + precision_score(y_test, preds) + f1_score(y_test, preds) + model.score(X_test, y_test))/4"
   ]
  },
  {
   "cell_type": "code",
   "execution_count": 70,
   "id": "39a765a4-8b61-4b5d-9ea9-dfa6df89b1e8",
   "metadata": {
    "ExecuteTime": {
     "end_time": "2024-02-18T15:19:41.121484700Z",
     "start_time": "2024-02-18T15:19:41.104330Z"
    }
   },
   "outputs": [
    {
     "data": {
      "text/plain": "array([[188,  11],\n       [ 16, 204]], dtype=int64)"
     },
     "execution_count": 70,
     "metadata": {},
     "output_type": "execute_result"
    }
   ],
   "source": [
    "confusion_matrix(y_test, preds)"
   ]
  },
  {
   "cell_type": "code",
   "execution_count": 71,
   "id": "27e45b13-5aee-4ff6-92e7-a8ba681ed346",
   "metadata": {
    "ExecuteTime": {
     "end_time": "2024-02-18T15:19:43.809575700Z",
     "start_time": "2024-02-18T15:19:43.796516700Z"
    }
   },
   "outputs": [
    {
     "name": "stdout",
     "output_type": "stream",
     "text": [
      "              precision    recall  f1-score   support\n",
      "\n",
      "           0       0.92      0.94      0.93       199\n",
      "           1       0.95      0.93      0.94       220\n",
      "\n",
      "    accuracy                           0.94       419\n",
      "   macro avg       0.94      0.94      0.94       419\n",
      "weighted avg       0.94      0.94      0.94       419\n"
     ]
    }
   ],
   "source": [
    "print(classification_report(y_test, preds))"
   ]
  },
  {
   "cell_type": "code",
   "execution_count": 46,
   "id": "beddf558-d2e7-4962-a8ef-bbdc90096f16",
   "metadata": {
    "ExecuteTime": {
     "end_time": "2024-02-18T15:10:01.075033500Z",
     "start_time": "2024-02-18T15:10:01.059942600Z"
    }
   },
   "outputs": [],
   "source": [
    "def is_spam(message, model=model):\n",
    "    \"\"\"\n",
    "    Predicts whether a given message or list of messages is spam or not.\n",
    "\n",
    "    Parameters:\n",
    "    - message (str or list of str): The message or list of messages to be classified. If a single message is provided,\n",
    "      it should be a string. If multiple messages are provided, they should be contained within a list of strings.\n",
    "\n",
    "    Returns:\n",
    "    - pred (array-like): An array-like object containing the predicted labels for each input message. A value of 1\n",
    "      indicates that the message is classified as spam, while a value of 0 indicates that the message is not spam.\n",
    "    \"\"\"\n",
    "    if isinstance(message, list):\n",
    "        words_ = [message_to_words(message_) for message_ in message]\n",
    "    elif isinstance(message, str):\n",
    "        words_ = [message_to_words(message)]\n",
    "    else:\n",
    "        print(\"The provided data is in the wrong format. Please provide the data in the format of a list or a string.\")\n",
    "    rows = make_rows(words_)\n",
    "    df_test = pd.DataFrame(rows, columns=words)\n",
    "    df_test = df_test.dropna()\n",
    "    pred = model.predict(df_test)\n",
    "    return pred"
   ]
  },
  {
   "cell_type": "code",
   "execution_count": 47,
   "id": "dca448fb-73f3-466a-a612-8f5152b13f75",
   "metadata": {
    "ExecuteTime": {
     "end_time": "2024-02-18T15:10:04.827221500Z",
     "start_time": "2024-02-18T15:10:04.649876100Z"
    }
   },
   "outputs": [],
   "source": [
    "comments = [\n",
    "    \"Beautiful photo! 😍\",\n",
    "    \"Great content as always!\",\n",
    "    \"Love your style! 💖\",\n",
    "    \"Amazing shot! 📸\",\n",
    "    \"Nice feed! Keep it up!\",\n",
    "    \"This is so cool! 😎\",\n",
    "    \"You're so talented!\",\n",
    "    \"Awesome post!\",\n",
    "    \"I admire your work!\",\n",
    "    \"Fantastic picture! 👌\",\n",
    "    \"Check out my profile for amazing deals!\",\n",
    "    \"Get free followers now! Click the link in bio!\",\n",
    "    \"Want to be Instagram famous? Follow me!\",\n",
    "    \"Buy followers and likes! Best prices here!\",\n",
    "    \"I make $1000 a day on Instagram! Ask me how!\",\n",
    "    \"Get rich quick! Follow my strategy!\",\n",
    "    \"Want to grow your account? DM me!\",\n",
    "    \"Limited time offer! Follow for discounts!\",\n",
    "    \"Boost your engagement! Follow for tips!\",\n",
    "    \"Get verified on Instagram! DM me for details!\",\n",
    "]\n",
    "results = is_spam(comments)"
   ]
  },
  {
   "cell_type": "code",
   "execution_count": 48,
   "id": "f9b0f7b3-85eb-46c7-9f60-9559b5d28f02",
   "metadata": {
    "ExecuteTime": {
     "end_time": "2024-02-18T15:10:10.613582900Z",
     "start_time": "2024-02-18T15:10:10.609638700Z"
    }
   },
   "outputs": [
    {
     "data": {
      "text/plain": "array([0, 0, 0, 0, 0, 0, 0, 0, 0, 0, 1, 1, 1, 0, 1, 1, 1, 1, 1, 1],\n      dtype=int64)"
     },
     "execution_count": 48,
     "metadata": {},
     "output_type": "execute_result"
    }
   ],
   "source": [
    "results"
   ]
  },
  {
   "cell_type": "code",
   "execution_count": 49,
   "id": "3e541171-3699-41d9-96c3-6307c88df046",
   "metadata": {
    "ExecuteTime": {
     "end_time": "2024-02-18T15:10:19.066648400Z",
     "start_time": "2024-02-18T15:10:18.973376900Z"
    }
   },
   "outputs": [
    {
     "data": {
      "text/plain": "array([1], dtype=int64)"
     },
     "execution_count": 49,
     "metadata": {},
     "output_type": "execute_result"
    }
   ],
   "source": [
    "is_spam(\"🚨🚨🚨 ATTENTION ALL INSTAGRAM USERS 🚨🚨🚨 Want to make $1000 a day from home? 💰💰💰 Click the link in my bio NOW to join our exclusive money-making club! 💵💵💵 Don't miss out on this amazing opportunity! 🔥🔥🔥 #makemoneyonline #financialfreedom #getrichquick\")"
   ]
  },
  {
   "cell_type": "code",
   "execution_count": 50,
   "id": "40363b08-514a-4838-ae6a-a7b350b4f6cc",
   "metadata": {
    "ExecuteTime": {
     "end_time": "2024-02-18T15:10:25.087231600Z",
     "start_time": "2024-02-18T15:10:24.999261100Z"
    }
   },
   "outputs": [
    {
     "data": {
      "text/plain": "array([0], dtype=int64)"
     },
     "execution_count": 50,
     "metadata": {},
     "output_type": "execute_result"
    }
   ],
   "source": [
    "is_spam(\"Absolutely stunning capture! 😍 The colors in this photo are so vibrant, it's like a work of art. Makes me miss our adventures together!\")"
   ]
  },
  {
   "cell_type": "code",
   "execution_count": 55,
   "id": "1b16ccce-9a8b-4d1c-9c9c-4949ec4d776e",
   "metadata": {
    "ExecuteTime": {
     "end_time": "2024-02-18T15:13:24.110161900Z",
     "start_time": "2024-02-18T15:13:24.066629800Z"
    }
   },
   "outputs": [],
   "source": [
    "import pickle\n",
    "\n",
    "with open('final_model_test.pkl', 'wb') as f:\n",
    "    pickle.dump(model, f)\n"
   ]
  },
  {
   "cell_type": "code",
   "execution_count": 53,
   "id": "551e7ae7-2e1f-4353-b429-7fc22c9e8c8d",
   "metadata": {
    "ExecuteTime": {
     "end_time": "2024-02-18T15:10:48.235534900Z",
     "start_time": "2024-02-18T15:10:48.202072100Z"
    }
   },
   "outputs": [],
   "source": [
    "with open('final_model_test.pkl', 'rb') as f:\n",
    "    loaded_model = pickle.load(f)"
   ]
  },
  {
   "cell_type": "code",
   "execution_count": 54,
   "id": "7ced9999-6719-4f33-9ff1-864678e2f380",
   "metadata": {
    "ExecuteTime": {
     "end_time": "2024-02-18T15:10:52.945056200Z",
     "start_time": "2024-02-18T15:10:52.856740Z"
    }
   },
   "outputs": [
    {
     "data": {
      "text/plain": "array([0], dtype=int64)"
     },
     "execution_count": 54,
     "metadata": {},
     "output_type": "execute_result"
    }
   ],
   "source": [
    "is_spam(\"This photo is beautiful. Where was it taken? I'm curious to know!\", model=loaded_model)"
   ]
  },
  {
   "cell_type": "code",
   "execution_count": null,
   "id": "7db276a7-8b5a-4ead-b35e-d0512afbe37b",
   "metadata": {},
   "outputs": [],
   "source": []
  }
 ],
 "metadata": {
  "kernelspec": {
   "display_name": "Python 3 (ipykernel)",
   "language": "python",
   "name": "python3"
  },
  "language_info": {
   "codemirror_mode": {
    "name": "ipython",
    "version": 3
   },
   "file_extension": ".py",
   "mimetype": "text/x-python",
   "name": "python",
   "nbconvert_exporter": "python",
   "pygments_lexer": "ipython3",
   "version": "3.11.1"
  }
 },
 "nbformat": 4,
 "nbformat_minor": 5
}
